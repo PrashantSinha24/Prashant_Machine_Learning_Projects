{
 "cells": [
  {
   "cell_type": "markdown",
   "metadata": {},
   "source": [
    "# Content"
   ]
  },
  {
   "cell_type": "raw",
   "metadata": {},
   "source": [
    "Import packages\n",
    "Load data\n",
    "Data preparation\n",
    "    1 - Dimensions of Dataset\n",
    "    2 - Statistical Summary\n",
    "    3 - Checking Data Type and Missing Values\n",
    "Visualizing Furniture Sales Time Series Data\n",
    "    1 - Checking Stationarity\n",
    "    2 - Decomposing\n",
    "Forecasting\n",
    "    1 - Time Series Forecasting using ARIMA\n",
    "    2 - Parameter Selection\n",
    "    3 - Fitting the ARIMA model\n",
    "    4 - Validating Forecasts\n",
    "    5 - Visualizing the Forecast"
   ]
  },
  {
   "cell_type": "markdown",
   "metadata": {},
   "source": [
    "# Setting up the working directory"
   ]
  },
  {
   "cell_type": "code",
   "execution_count": 69,
   "metadata": {},
   "outputs": [],
   "source": [
    "import os as os"
   ]
  },
  {
   "cell_type": "code",
   "execution_count": 70,
   "metadata": {},
   "outputs": [],
   "source": [
    "os.chdir(\"C:\\\\Users\\\\kunal\\\\OneDrive\\\\Desktop\\\\Training 1\\\\Time series\")"
   ]
  },
  {
   "cell_type": "code",
   "execution_count": 71,
   "metadata": {},
   "outputs": [
    {
     "data": {
      "text/plain": [
       "'C:\\\\Users\\\\kunal\\\\OneDrive\\\\Desktop\\\\Training 1\\\\Time series'"
      ]
     },
     "execution_count": 71,
     "metadata": {},
     "output_type": "execute_result"
    }
   ],
   "source": [
    "os.getcwd()"
   ]
  },
  {
   "cell_type": "code",
   "execution_count": 72,
   "metadata": {},
   "outputs": [
    {
     "data": {
      "text/plain": [
       "['.ipynb_checkpoints',\n",
       " '.RData',\n",
       " '.Rhistory',\n",
       " 'AirPassengers.csv',\n",
       " 'ARIMA_Air_Passengers.R',\n",
       " 'Assignment 2 DSp 15.R',\n",
       " 'Avg_Monthly_Cycle_Hiring_Count.csv',\n",
       " 'dailysales.csv',\n",
       " 'Forecasting and Predicting the Furniture Sales of  .ipynb',\n",
       " 'Gold price Data.csv',\n",
       " 'Gold_Price_prediction.R',\n",
       " 'Gold_Price_trend',\n",
       " 'multiTimeline.csv',\n",
       " 'Problem Statement.docx',\n",
       " 'Super Store.csv',\n",
       " 'Time series DC.ipynb',\n",
       " 'Time Series Forecasting (1).pptx',\n",
       " 'Time series on Cycle Ridership Data.ipynb',\n",
       " 'Time_Series_Air_Passengers_dataset.ipynb',\n",
       " 'Time_series_astsa_Birth.R',\n",
       " 'Time_Series_Wikipedia.R',\n",
       " 'TSA_Furniture_Sales-Copy1 april 2021.ipynb',\n",
       " 'TSA_Furniture_Sales.ipynb',\n",
       " 'TSA_Furniture_Sales_Self_FNotes.ipynb',\n",
       " 'TSA_Furniture_Sales_Shared_April_22_2022.ipynb',\n",
       " 'US_Birth.csv']"
      ]
     },
     "execution_count": 72,
     "metadata": {},
     "output_type": "execute_result"
    }
   ],
   "source": [
    "os.listdir()"
   ]
  },
  {
   "cell_type": "markdown",
   "metadata": {},
   "source": [
    "# Installing/Importing the packages to be used"
   ]
  },
  {
   "cell_type": "code",
   "execution_count": 73,
   "metadata": {},
   "outputs": [],
   "source": [
    "import warnings\n",
    "import itertools\n",
    "import seaborn as sns\n",
    "import numpy as np\n",
    "import pandas as pd\n",
    "import statsmodels.api as sm\n",
    "from pandas import read_csv\n",
    "from matplotlib import pyplot\n",
    "from statsmodels.graphics.tsaplots import plot_acf\n",
    "from statsmodels.graphics.tsaplots import plot_pacf\n",
    "\n",
    "#rom matplotlib import pyplot\n",
    "\n"
   ]
  },
  {
   "cell_type": "code",
   "execution_count": 74,
   "metadata": {},
   "outputs": [],
   "source": [
    "import matplotlib\n",
    "import matplotlib.pyplot as plt\n",
    "warnings.filterwarnings(\"ignore\")\n",
    "plt.style.use('fivethirtyeight')\n",
    "matplotlib.rcParams['axes.labelsize'] = 14\n",
    "matplotlib.rcParams['xtick.labelsize'] = 12\n",
    "matplotlib.rcParams['ytick.labelsize'] = 12\n",
    "matplotlib.rcParams['text.color'] = 'k'"
   ]
  },
  {
   "cell_type": "markdown",
   "metadata": {},
   "source": [
    "# Reading the Times series data"
   ]
  },
  {
   "cell_type": "code",
   "execution_count": 75,
   "metadata": {},
   "outputs": [
    {
     "name": "stdout",
     "output_type": "stream",
     "text": [
      "<class 'pandas.core.frame.DataFrame'>\n",
      "RangeIndex: 2121 entries, 0 to 2120\n",
      "Data columns (total 21 columns):\n",
      " #   Column         Non-Null Count  Dtype  \n",
      "---  ------         --------------  -----  \n",
      " 0   Row ID         2121 non-null   int64  \n",
      " 1   Order ID       2121 non-null   object \n",
      " 2   Order Date     2121 non-null   object \n",
      " 3   Ship Date      2121 non-null   object \n",
      " 4   Ship Mode      2121 non-null   object \n",
      " 5   Customer ID    2121 non-null   object \n",
      " 6   Customer Name  2121 non-null   object \n",
      " 7   Segment        2121 non-null   object \n",
      " 8   Country        2121 non-null   object \n",
      " 9   City           2121 non-null   object \n",
      " 10  State          2121 non-null   object \n",
      " 11  Postal Code    2121 non-null   int64  \n",
      " 12  Region         2121 non-null   object \n",
      " 13  Product ID     2121 non-null   object \n",
      " 14  Category       2121 non-null   object \n",
      " 15  Sub-Category   2121 non-null   object \n",
      " 16  Product Name   2121 non-null   object \n",
      " 17  Sales          2121 non-null   float64\n",
      " 18  Quantity       2121 non-null   int64  \n",
      " 19  Discount       2121 non-null   float64\n",
      " 20  Profit         2121 non-null   float64\n",
      "dtypes: float64(3), int64(3), object(15)\n",
      "memory usage: 348.1+ KB\n"
     ]
    }
   ],
   "source": [
    "#read the datset \n",
    "furniture = pd.read_csv(\"Super Store.csv\", encoding='cp1252')\n",
    "\n",
    "\n",
    "furniture.info()"
   ]
  },
  {
   "cell_type": "code",
   "execution_count": 76,
   "metadata": {},
   "outputs": [
    {
     "data": {
      "text/html": [
       "<div>\n",
       "<style scoped>\n",
       "    .dataframe tbody tr th:only-of-type {\n",
       "        vertical-align: middle;\n",
       "    }\n",
       "\n",
       "    .dataframe tbody tr th {\n",
       "        vertical-align: top;\n",
       "    }\n",
       "\n",
       "    .dataframe thead th {\n",
       "        text-align: right;\n",
       "    }\n",
       "</style>\n",
       "<table border=\"1\" class=\"dataframe\">\n",
       "  <thead>\n",
       "    <tr style=\"text-align: right;\">\n",
       "      <th></th>\n",
       "      <th>Row ID</th>\n",
       "      <th>Order ID</th>\n",
       "      <th>Order Date</th>\n",
       "      <th>Ship Date</th>\n",
       "      <th>Ship Mode</th>\n",
       "      <th>Customer ID</th>\n",
       "      <th>Customer Name</th>\n",
       "      <th>Segment</th>\n",
       "      <th>Country</th>\n",
       "      <th>City</th>\n",
       "      <th>...</th>\n",
       "      <th>Postal Code</th>\n",
       "      <th>Region</th>\n",
       "      <th>Product ID</th>\n",
       "      <th>Category</th>\n",
       "      <th>Sub-Category</th>\n",
       "      <th>Product Name</th>\n",
       "      <th>Sales</th>\n",
       "      <th>Quantity</th>\n",
       "      <th>Discount</th>\n",
       "      <th>Profit</th>\n",
       "    </tr>\n",
       "  </thead>\n",
       "  <tbody>\n",
       "    <tr>\n",
       "      <th>0</th>\n",
       "      <td>1</td>\n",
       "      <td>CA-2016-152156</td>\n",
       "      <td>11/8/2016</td>\n",
       "      <td>11/11/2016</td>\n",
       "      <td>Second Class</td>\n",
       "      <td>CG-12520</td>\n",
       "      <td>Claire Gute</td>\n",
       "      <td>Consumer</td>\n",
       "      <td>United States</td>\n",
       "      <td>Henderson</td>\n",
       "      <td>...</td>\n",
       "      <td>42420</td>\n",
       "      <td>South</td>\n",
       "      <td>FUR-BO-10001798</td>\n",
       "      <td>Furniture</td>\n",
       "      <td>Bookcases</td>\n",
       "      <td>Bush Somerset Collection Bookcase</td>\n",
       "      <td>261.9600</td>\n",
       "      <td>2</td>\n",
       "      <td>0.00</td>\n",
       "      <td>41.9136</td>\n",
       "    </tr>\n",
       "    <tr>\n",
       "      <th>1</th>\n",
       "      <td>2</td>\n",
       "      <td>CA-2016-152156</td>\n",
       "      <td>11/8/2016</td>\n",
       "      <td>11/11/2016</td>\n",
       "      <td>Second Class</td>\n",
       "      <td>CG-12520</td>\n",
       "      <td>Claire Gute</td>\n",
       "      <td>Consumer</td>\n",
       "      <td>United States</td>\n",
       "      <td>Henderson</td>\n",
       "      <td>...</td>\n",
       "      <td>42420</td>\n",
       "      <td>South</td>\n",
       "      <td>FUR-CH-10000454</td>\n",
       "      <td>Furniture</td>\n",
       "      <td>Chairs</td>\n",
       "      <td>Hon Deluxe Fabric Upholstered Stacking Chairs,...</td>\n",
       "      <td>731.9400</td>\n",
       "      <td>3</td>\n",
       "      <td>0.00</td>\n",
       "      <td>219.5820</td>\n",
       "    </tr>\n",
       "    <tr>\n",
       "      <th>2</th>\n",
       "      <td>4</td>\n",
       "      <td>US-2015-108966</td>\n",
       "      <td>10/11/2015</td>\n",
       "      <td>10/18/2015</td>\n",
       "      <td>Standard Class</td>\n",
       "      <td>SO-20335</td>\n",
       "      <td>Sean O'Donnell</td>\n",
       "      <td>Consumer</td>\n",
       "      <td>United States</td>\n",
       "      <td>Fort Lauderdale</td>\n",
       "      <td>...</td>\n",
       "      <td>33311</td>\n",
       "      <td>South</td>\n",
       "      <td>FUR-TA-10000577</td>\n",
       "      <td>Furniture</td>\n",
       "      <td>Tables</td>\n",
       "      <td>Bretford CR4500 Series Slim Rectangular Table</td>\n",
       "      <td>957.5775</td>\n",
       "      <td>5</td>\n",
       "      <td>0.45</td>\n",
       "      <td>-383.0310</td>\n",
       "    </tr>\n",
       "    <tr>\n",
       "      <th>3</th>\n",
       "      <td>6</td>\n",
       "      <td>CA-2014-115812</td>\n",
       "      <td>6/9/2014</td>\n",
       "      <td>6/14/2014</td>\n",
       "      <td>Standard Class</td>\n",
       "      <td>BH-11710</td>\n",
       "      <td>Brosina Hoffman</td>\n",
       "      <td>Consumer</td>\n",
       "      <td>United States</td>\n",
       "      <td>Los Angeles</td>\n",
       "      <td>...</td>\n",
       "      <td>90032</td>\n",
       "      <td>West</td>\n",
       "      <td>FUR-FU-10001487</td>\n",
       "      <td>Furniture</td>\n",
       "      <td>Furnishings</td>\n",
       "      <td>Eldon Expressions Wood and Plastic Desk Access...</td>\n",
       "      <td>48.8600</td>\n",
       "      <td>7</td>\n",
       "      <td>0.00</td>\n",
       "      <td>14.1694</td>\n",
       "    </tr>\n",
       "    <tr>\n",
       "      <th>4</th>\n",
       "      <td>11</td>\n",
       "      <td>CA-2014-115812</td>\n",
       "      <td>6/9/2014</td>\n",
       "      <td>6/14/2014</td>\n",
       "      <td>Standard Class</td>\n",
       "      <td>BH-11710</td>\n",
       "      <td>Brosina Hoffman</td>\n",
       "      <td>Consumer</td>\n",
       "      <td>United States</td>\n",
       "      <td>Los Angeles</td>\n",
       "      <td>...</td>\n",
       "      <td>90032</td>\n",
       "      <td>West</td>\n",
       "      <td>FUR-TA-10001539</td>\n",
       "      <td>Furniture</td>\n",
       "      <td>Tables</td>\n",
       "      <td>Chromcraft Rectangular Conference Tables</td>\n",
       "      <td>1706.1840</td>\n",
       "      <td>9</td>\n",
       "      <td>0.20</td>\n",
       "      <td>85.3092</td>\n",
       "    </tr>\n",
       "  </tbody>\n",
       "</table>\n",
       "<p>5 rows × 21 columns</p>\n",
       "</div>"
      ],
      "text/plain": [
       "   Row ID        Order ID  Order Date   Ship Date       Ship Mode Customer ID  \\\n",
       "0       1  CA-2016-152156   11/8/2016  11/11/2016    Second Class    CG-12520   \n",
       "1       2  CA-2016-152156   11/8/2016  11/11/2016    Second Class    CG-12520   \n",
       "2       4  US-2015-108966  10/11/2015  10/18/2015  Standard Class    SO-20335   \n",
       "3       6  CA-2014-115812    6/9/2014   6/14/2014  Standard Class    BH-11710   \n",
       "4      11  CA-2014-115812    6/9/2014   6/14/2014  Standard Class    BH-11710   \n",
       "\n",
       "     Customer Name   Segment        Country             City  ... Postal Code  \\\n",
       "0      Claire Gute  Consumer  United States        Henderson  ...       42420   \n",
       "1      Claire Gute  Consumer  United States        Henderson  ...       42420   \n",
       "2   Sean O'Donnell  Consumer  United States  Fort Lauderdale  ...       33311   \n",
       "3  Brosina Hoffman  Consumer  United States      Los Angeles  ...       90032   \n",
       "4  Brosina Hoffman  Consumer  United States      Los Angeles  ...       90032   \n",
       "\n",
       "   Region       Product ID   Category Sub-Category  \\\n",
       "0   South  FUR-BO-10001798  Furniture    Bookcases   \n",
       "1   South  FUR-CH-10000454  Furniture       Chairs   \n",
       "2   South  FUR-TA-10000577  Furniture       Tables   \n",
       "3    West  FUR-FU-10001487  Furniture  Furnishings   \n",
       "4    West  FUR-TA-10001539  Furniture       Tables   \n",
       "\n",
       "                                        Product Name      Sales  Quantity  \\\n",
       "0                  Bush Somerset Collection Bookcase   261.9600         2   \n",
       "1  Hon Deluxe Fabric Upholstered Stacking Chairs,...   731.9400         3   \n",
       "2      Bretford CR4500 Series Slim Rectangular Table   957.5775         5   \n",
       "3  Eldon Expressions Wood and Plastic Desk Access...    48.8600         7   \n",
       "4           Chromcraft Rectangular Conference Tables  1706.1840         9   \n",
       "\n",
       "   Discount    Profit  \n",
       "0      0.00   41.9136  \n",
       "1      0.00  219.5820  \n",
       "2      0.45 -383.0310  \n",
       "3      0.00   14.1694  \n",
       "4      0.20   85.3092  \n",
       "\n",
       "[5 rows x 21 columns]"
      ]
     },
     "execution_count": 76,
     "metadata": {},
     "output_type": "execute_result"
    }
   ],
   "source": [
    "\n",
    "#Run the 1st 6 rows and all columns of the dataset\n",
    "furniture.head()"
   ]
  },
  {
   "cell_type": "code",
   "execution_count": 77,
   "metadata": {},
   "outputs": [
    {
     "data": {
      "text/plain": [
       "(2121, 21)"
      ]
     },
     "execution_count": 77,
     "metadata": {},
     "output_type": "execute_result"
    }
   ],
   "source": [
    "#Checking the simensionof the Time series data\n",
    "furniture.shape"
   ]
  },
  {
   "cell_type": "code",
   "execution_count": 78,
   "metadata": {},
   "outputs": [
    {
     "data": {
      "text/html": [
       "<div>\n",
       "<style scoped>\n",
       "    .dataframe tbody tr th:only-of-type {\n",
       "        vertical-align: middle;\n",
       "    }\n",
       "\n",
       "    .dataframe tbody tr th {\n",
       "        vertical-align: top;\n",
       "    }\n",
       "\n",
       "    .dataframe thead th {\n",
       "        text-align: right;\n",
       "    }\n",
       "</style>\n",
       "<table border=\"1\" class=\"dataframe\">\n",
       "  <thead>\n",
       "    <tr style=\"text-align: right;\">\n",
       "      <th></th>\n",
       "      <th>Order ID</th>\n",
       "      <th>Order Date</th>\n",
       "      <th>Ship Date</th>\n",
       "      <th>Ship Mode</th>\n",
       "      <th>Customer ID</th>\n",
       "      <th>Customer Name</th>\n",
       "      <th>Segment</th>\n",
       "      <th>Country</th>\n",
       "      <th>City</th>\n",
       "      <th>State</th>\n",
       "      <th>Region</th>\n",
       "      <th>Product ID</th>\n",
       "      <th>Category</th>\n",
       "      <th>Sub-Category</th>\n",
       "      <th>Product Name</th>\n",
       "    </tr>\n",
       "  </thead>\n",
       "  <tbody>\n",
       "    <tr>\n",
       "      <th>count</th>\n",
       "      <td>2121</td>\n",
       "      <td>2121</td>\n",
       "      <td>2121</td>\n",
       "      <td>2121</td>\n",
       "      <td>2121</td>\n",
       "      <td>2121</td>\n",
       "      <td>2121</td>\n",
       "      <td>2121</td>\n",
       "      <td>2121</td>\n",
       "      <td>2121</td>\n",
       "      <td>2121</td>\n",
       "      <td>2121</td>\n",
       "      <td>2121</td>\n",
       "      <td>2121</td>\n",
       "      <td>2121</td>\n",
       "    </tr>\n",
       "    <tr>\n",
       "      <th>unique</th>\n",
       "      <td>1764</td>\n",
       "      <td>889</td>\n",
       "      <td>960</td>\n",
       "      <td>4</td>\n",
       "      <td>707</td>\n",
       "      <td>707</td>\n",
       "      <td>3</td>\n",
       "      <td>1</td>\n",
       "      <td>371</td>\n",
       "      <td>48</td>\n",
       "      <td>4</td>\n",
       "      <td>375</td>\n",
       "      <td>1</td>\n",
       "      <td>4</td>\n",
       "      <td>380</td>\n",
       "    </tr>\n",
       "    <tr>\n",
       "      <th>top</th>\n",
       "      <td>US-2015-129007</td>\n",
       "      <td>9/5/2016</td>\n",
       "      <td>12/6/2017</td>\n",
       "      <td>Standard Class</td>\n",
       "      <td>SV-20365</td>\n",
       "      <td>Seth Vernon</td>\n",
       "      <td>Consumer</td>\n",
       "      <td>United States</td>\n",
       "      <td>New York City</td>\n",
       "      <td>California</td>\n",
       "      <td>West</td>\n",
       "      <td>FUR-FU-10004270</td>\n",
       "      <td>Furniture</td>\n",
       "      <td>Furnishings</td>\n",
       "      <td>KI Adjustable-Height Table</td>\n",
       "    </tr>\n",
       "    <tr>\n",
       "      <th>freq</th>\n",
       "      <td>4</td>\n",
       "      <td>10</td>\n",
       "      <td>10</td>\n",
       "      <td>1248</td>\n",
       "      <td>15</td>\n",
       "      <td>15</td>\n",
       "      <td>1113</td>\n",
       "      <td>2121</td>\n",
       "      <td>192</td>\n",
       "      <td>444</td>\n",
       "      <td>707</td>\n",
       "      <td>16</td>\n",
       "      <td>2121</td>\n",
       "      <td>957</td>\n",
       "      <td>18</td>\n",
       "    </tr>\n",
       "  </tbody>\n",
       "</table>\n",
       "</div>"
      ],
      "text/plain": [
       "              Order ID Order Date  Ship Date       Ship Mode Customer ID  \\\n",
       "count             2121       2121       2121            2121        2121   \n",
       "unique            1764        889        960               4         707   \n",
       "top     US-2015-129007   9/5/2016  12/6/2017  Standard Class    SV-20365   \n",
       "freq                 4         10         10            1248          15   \n",
       "\n",
       "       Customer Name   Segment        Country           City       State  \\\n",
       "count           2121      2121           2121           2121        2121   \n",
       "unique           707         3              1            371          48   \n",
       "top      Seth Vernon  Consumer  United States  New York City  California   \n",
       "freq              15      1113           2121            192         444   \n",
       "\n",
       "       Region       Product ID   Category Sub-Category  \\\n",
       "count    2121             2121       2121         2121   \n",
       "unique      4              375          1            4   \n",
       "top      West  FUR-FU-10004270  Furniture  Furnishings   \n",
       "freq      707               16       2121          957   \n",
       "\n",
       "                      Product Name  \n",
       "count                         2121  \n",
       "unique                         380  \n",
       "top     KI Adjustable-Height Table  \n",
       "freq                            18  "
      ]
     },
     "execution_count": 78,
     "metadata": {},
     "output_type": "execute_result"
    }
   ],
   "source": [
    "#Checking the str/character type variables\n",
    "\n",
    "furniture.describe(include=\"O\")"
   ]
  },
  {
   "cell_type": "code",
   "execution_count": 11,
   "metadata": {
    "scrolled": true
   },
   "outputs": [
    {
     "data": {
      "text/html": [
       "<div>\n",
       "<style scoped>\n",
       "    .dataframe tbody tr th:only-of-type {\n",
       "        vertical-align: middle;\n",
       "    }\n",
       "\n",
       "    .dataframe tbody tr th {\n",
       "        vertical-align: top;\n",
       "    }\n",
       "\n",
       "    .dataframe thead th {\n",
       "        text-align: right;\n",
       "    }\n",
       "</style>\n",
       "<table border=\"1\" class=\"dataframe\">\n",
       "  <thead>\n",
       "    <tr style=\"text-align: right;\">\n",
       "      <th></th>\n",
       "      <th>Sales</th>\n",
       "      <th>Discount</th>\n",
       "      <th>Profit</th>\n",
       "    </tr>\n",
       "  </thead>\n",
       "  <tbody>\n",
       "    <tr>\n",
       "      <th>count</th>\n",
       "      <td>2121.000000</td>\n",
       "      <td>2121.000000</td>\n",
       "      <td>2121.000000</td>\n",
       "    </tr>\n",
       "    <tr>\n",
       "      <th>mean</th>\n",
       "      <td>349.834887</td>\n",
       "      <td>0.173923</td>\n",
       "      <td>8.699327</td>\n",
       "    </tr>\n",
       "    <tr>\n",
       "      <th>std</th>\n",
       "      <td>503.179145</td>\n",
       "      <td>0.181547</td>\n",
       "      <td>136.049246</td>\n",
       "    </tr>\n",
       "    <tr>\n",
       "      <th>min</th>\n",
       "      <td>1.892000</td>\n",
       "      <td>0.000000</td>\n",
       "      <td>-1862.312400</td>\n",
       "    </tr>\n",
       "    <tr>\n",
       "      <th>25%</th>\n",
       "      <td>47.040000</td>\n",
       "      <td>0.000000</td>\n",
       "      <td>-12.849000</td>\n",
       "    </tr>\n",
       "    <tr>\n",
       "      <th>50%</th>\n",
       "      <td>182.220000</td>\n",
       "      <td>0.200000</td>\n",
       "      <td>7.774800</td>\n",
       "    </tr>\n",
       "    <tr>\n",
       "      <th>75%</th>\n",
       "      <td>435.168000</td>\n",
       "      <td>0.300000</td>\n",
       "      <td>33.726600</td>\n",
       "    </tr>\n",
       "    <tr>\n",
       "      <th>max</th>\n",
       "      <td>4416.174000</td>\n",
       "      <td>0.700000</td>\n",
       "      <td>1013.127000</td>\n",
       "    </tr>\n",
       "  </tbody>\n",
       "</table>\n",
       "</div>"
      ],
      "text/plain": [
       "             Sales     Discount       Profit\n",
       "count  2121.000000  2121.000000  2121.000000\n",
       "mean    349.834887     0.173923     8.699327\n",
       "std     503.179145     0.181547   136.049246\n",
       "min       1.892000     0.000000 -1862.312400\n",
       "25%      47.040000     0.000000   -12.849000\n",
       "50%     182.220000     0.200000     7.774800\n",
       "75%     435.168000     0.300000    33.726600\n",
       "max    4416.174000     0.700000  1013.127000"
      ]
     },
     "execution_count": 11,
     "metadata": {},
     "output_type": "execute_result"
    }
   ],
   "source": [
    "#checking the numeric and continuous variables\n",
    "\n",
    "furniture.describe(include=\"float64\")"
   ]
  },
  {
   "cell_type": "code",
   "execution_count": 12,
   "metadata": {},
   "outputs": [
    {
     "data": {
      "text/html": [
       "<div>\n",
       "<style scoped>\n",
       "    .dataframe tbody tr th:only-of-type {\n",
       "        vertical-align: middle;\n",
       "    }\n",
       "\n",
       "    .dataframe tbody tr th {\n",
       "        vertical-align: top;\n",
       "    }\n",
       "\n",
       "    .dataframe thead th {\n",
       "        text-align: right;\n",
       "    }\n",
       "</style>\n",
       "<table border=\"1\" class=\"dataframe\">\n",
       "  <thead>\n",
       "    <tr style=\"text-align: right;\">\n",
       "      <th></th>\n",
       "      <th>Row ID</th>\n",
       "      <th>Postal Code</th>\n",
       "      <th>Quantity</th>\n",
       "    </tr>\n",
       "  </thead>\n",
       "  <tbody>\n",
       "    <tr>\n",
       "      <th>count</th>\n",
       "      <td>2121.000000</td>\n",
       "      <td>2121.000000</td>\n",
       "      <td>2121.000000</td>\n",
       "    </tr>\n",
       "    <tr>\n",
       "      <th>mean</th>\n",
       "      <td>5041.643564</td>\n",
       "      <td>55726.556341</td>\n",
       "      <td>3.785007</td>\n",
       "    </tr>\n",
       "    <tr>\n",
       "      <th>std</th>\n",
       "      <td>2885.740258</td>\n",
       "      <td>32261.888225</td>\n",
       "      <td>2.251620</td>\n",
       "    </tr>\n",
       "    <tr>\n",
       "      <th>min</th>\n",
       "      <td>1.000000</td>\n",
       "      <td>1040.000000</td>\n",
       "      <td>1.000000</td>\n",
       "    </tr>\n",
       "    <tr>\n",
       "      <th>25%</th>\n",
       "      <td>2568.000000</td>\n",
       "      <td>22801.000000</td>\n",
       "      <td>2.000000</td>\n",
       "    </tr>\n",
       "    <tr>\n",
       "      <th>50%</th>\n",
       "      <td>5145.000000</td>\n",
       "      <td>60505.000000</td>\n",
       "      <td>3.000000</td>\n",
       "    </tr>\n",
       "    <tr>\n",
       "      <th>75%</th>\n",
       "      <td>7534.000000</td>\n",
       "      <td>90032.000000</td>\n",
       "      <td>5.000000</td>\n",
       "    </tr>\n",
       "    <tr>\n",
       "      <th>max</th>\n",
       "      <td>9991.000000</td>\n",
       "      <td>99301.000000</td>\n",
       "      <td>14.000000</td>\n",
       "    </tr>\n",
       "  </tbody>\n",
       "</table>\n",
       "</div>"
      ],
      "text/plain": [
       "            Row ID   Postal Code     Quantity\n",
       "count  2121.000000   2121.000000  2121.000000\n",
       "mean   5041.643564  55726.556341     3.785007\n",
       "std    2885.740258  32261.888225     2.251620\n",
       "min       1.000000   1040.000000     1.000000\n",
       "25%    2568.000000  22801.000000     2.000000\n",
       "50%    5145.000000  60505.000000     3.000000\n",
       "75%    7534.000000  90032.000000     5.000000\n",
       "max    9991.000000  99301.000000    14.000000"
      ]
     },
     "execution_count": 12,
     "metadata": {},
     "output_type": "execute_result"
    }
   ],
   "source": [
    "#checking the numeric and integer variables \n",
    "furniture.describe(include=\"int64\")"
   ]
  },
  {
   "cell_type": "code",
   "execution_count": 13,
   "metadata": {},
   "outputs": [
    {
     "name": "stdout",
     "output_type": "stream",
     "text": [
      "<class 'pandas.core.frame.DataFrame'>\n",
      "RangeIndex: 2121 entries, 0 to 2120\n",
      "Data columns (total 21 columns):\n",
      " #   Column         Non-Null Count  Dtype  \n",
      "---  ------         --------------  -----  \n",
      " 0   Row ID         2121 non-null   int64  \n",
      " 1   Order ID       2121 non-null   object \n",
      " 2   Order Date     2121 non-null   object \n",
      " 3   Ship Date      2121 non-null   object \n",
      " 4   Ship Mode      2121 non-null   object \n",
      " 5   Customer ID    2121 non-null   object \n",
      " 6   Customer Name  2121 non-null   object \n",
      " 7   Segment        2121 non-null   object \n",
      " 8   Country        2121 non-null   object \n",
      " 9   City           2121 non-null   object \n",
      " 10  State          2121 non-null   object \n",
      " 11  Postal Code    2121 non-null   int64  \n",
      " 12  Region         2121 non-null   object \n",
      " 13  Product ID     2121 non-null   object \n",
      " 14  Category       2121 non-null   object \n",
      " 15  Sub-Category   2121 non-null   object \n",
      " 16  Product Name   2121 non-null   object \n",
      " 17  Sales          2121 non-null   float64\n",
      " 18  Quantity       2121 non-null   int64  \n",
      " 19  Discount       2121 non-null   float64\n",
      " 20  Profit         2121 non-null   float64\n",
      "dtypes: float64(3), int64(3), object(15)\n",
      "memory usage: 348.1+ KB\n"
     ]
    }
   ],
   "source": [
    "#Info command to have a glance on the datatypes and the missing values \n",
    "furniture.info()"
   ]
  },
  {
   "cell_type": "markdown",
   "metadata": {},
   "source": [
    "# check the time stamp"
   ]
  },
  {
   "cell_type": "code",
   "execution_count": 14,
   "metadata": {},
   "outputs": [
    {
     "data": {
      "text/plain": [
       "('1/1/2017', '9/9/2017')"
      ]
     },
     "execution_count": 14,
     "metadata": {},
     "output_type": "execute_result"
    }
   ],
   "source": [
    "furniture['Order Date'].min(), furniture['Order Date'].max()"
   ]
  },
  {
   "cell_type": "code",
   "execution_count": 15,
   "metadata": {},
   "outputs": [
    {
     "name": "stdout",
     "output_type": "stream",
     "text": [
      "<class 'pandas.core.frame.DataFrame'>\n",
      "RangeIndex: 2121 entries, 0 to 2120\n",
      "Data columns (total 2 columns):\n",
      " #   Column      Non-Null Count  Dtype  \n",
      "---  ------      --------------  -----  \n",
      " 0   Order Date  2121 non-null   object \n",
      " 1   Sales       2121 non-null   float64\n",
      "dtypes: float64(1), object(1)\n",
      "memory usage: 33.3+ KB\n"
     ]
    }
   ],
   "source": [
    "furniture=furniture.loc[:,['Order Date','Sales']];furniture.info()"
   ]
  },
  {
   "cell_type": "code",
   "execution_count": 16,
   "metadata": {},
   "outputs": [
    {
     "data": {
      "text/plain": [
       "(2121, 2)"
      ]
     },
     "execution_count": 16,
     "metadata": {},
     "output_type": "execute_result"
    }
   ],
   "source": [
    "furniture.shape"
   ]
  },
  {
   "cell_type": "code",
   "execution_count": 17,
   "metadata": {},
   "outputs": [
    {
     "data": {
      "text/plain": [
       "Order Date    0\n",
       "Sales         0\n",
       "dtype: int64"
      ]
     },
     "execution_count": 17,
     "metadata": {},
     "output_type": "execute_result"
    }
   ],
   "source": [
    "furniture = furniture.sort_values('Order Date')\n",
    "furniture.isnull().sum()"
   ]
  },
  {
   "cell_type": "code",
   "execution_count": 18,
   "metadata": {},
   "outputs": [
    {
     "data": {
      "text/plain": [
       "(889, 2)"
      ]
     },
     "execution_count": 18,
     "metadata": {},
     "output_type": "execute_result"
    }
   ],
   "source": [
    "furniture = furniture.groupby('Order Date')['Sales'].sum().reset_index();furniture.shape"
   ]
  },
  {
   "cell_type": "code",
   "execution_count": 19,
   "metadata": {},
   "outputs": [
    {
     "data": {
      "text/plain": [
       "DatetimeIndex(['2017-01-01', '2014-01-10', '2015-01-10', '2016-01-10',\n",
       "               '2014-01-11', '2016-01-11', '2017-01-12', '2014-01-13',\n",
       "               '2015-01-13', '2017-01-13',\n",
       "               ...\n",
       "               '2014-09-07', '2015-09-07', '2017-09-07', '2014-09-08',\n",
       "               '2015-09-08', '2016-09-08', '2017-09-08', '2014-09-09',\n",
       "               '2016-09-09', '2017-09-09'],\n",
       "              dtype='datetime64[ns]', name='Order Date', length=889, freq=None)"
      ]
     },
     "execution_count": 19,
     "metadata": {},
     "output_type": "execute_result"
    }
   ],
   "source": [
    "#using the pd.to_datetime we convert the order date format \n",
    "\n",
    "furniture['Order Date'] = pd.to_datetime(furniture['Order Date'])\n",
    "furniture.set_index('Order Date', inplace=True)\n",
    "furniture.index"
   ]
  },
  {
   "cell_type": "code",
   "execution_count": 20,
   "metadata": {},
   "outputs": [
    {
     "name": "stdout",
     "output_type": "stream",
     "text": [
      "<class 'pandas.core.frame.DataFrame'>\n",
      "DatetimeIndex: 889 entries, 2017-01-01 to 2017-09-09\n",
      "Data columns (total 1 columns):\n",
      " #   Column  Non-Null Count  Dtype  \n",
      "---  ------  --------------  -----  \n",
      " 0   Sales   889 non-null    float64\n",
      "dtypes: float64(1)\n",
      "memory usage: 13.9 KB\n"
     ]
    }
   ],
   "source": [
    "furniture.info()"
   ]
  },
  {
   "cell_type": "code",
   "execution_count": 21,
   "metadata": {},
   "outputs": [],
   "source": [
    "furniture = furniture['Sales'].resample('MS').mean()"
   ]
  },
  {
   "cell_type": "code",
   "execution_count": 22,
   "metadata": {},
   "outputs": [],
   "source": [
    "furniture=pd.DataFrame(furniture)"
   ]
  },
  {
   "cell_type": "code",
   "execution_count": 23,
   "metadata": {},
   "outputs": [
    {
     "name": "stdout",
     "output_type": "stream",
     "text": [
      "<class 'pandas.core.frame.DataFrame'>\n",
      "DatetimeIndex: 48 entries, 2014-01-01 to 2017-12-01\n",
      "Freq: MS\n",
      "Data columns (total 1 columns):\n",
      " #   Column  Non-Null Count  Dtype  \n",
      "---  ------  --------------  -----  \n",
      " 0   Sales   48 non-null     float64\n",
      "dtypes: float64(1)\n",
      "memory usage: 768.0 bytes\n"
     ]
    }
   ],
   "source": [
    "furniture.info()"
   ]
  },
  {
   "cell_type": "code",
   "execution_count": 24,
   "metadata": {},
   "outputs": [
    {
     "data": {
      "text/plain": [
       "DatetimeIndex(['2014-01-01', '2014-02-01', '2014-03-01', '2014-04-01',\n",
       "               '2014-05-01', '2014-06-01', '2014-07-01', '2014-08-01',\n",
       "               '2014-09-01', '2014-10-01', '2014-11-01', '2014-12-01',\n",
       "               '2015-01-01', '2015-02-01', '2015-03-01', '2015-04-01',\n",
       "               '2015-05-01', '2015-06-01', '2015-07-01', '2015-08-01',\n",
       "               '2015-09-01', '2015-10-01', '2015-11-01', '2015-12-01',\n",
       "               '2016-01-01', '2016-02-01', '2016-03-01', '2016-04-01',\n",
       "               '2016-05-01', '2016-06-01', '2016-07-01', '2016-08-01',\n",
       "               '2016-09-01', '2016-10-01', '2016-11-01', '2016-12-01',\n",
       "               '2017-01-01', '2017-02-01', '2017-03-01', '2017-04-01',\n",
       "               '2017-05-01', '2017-06-01', '2017-07-01', '2017-08-01',\n",
       "               '2017-09-01', '2017-10-01', '2017-11-01', '2017-12-01'],\n",
       "              dtype='datetime64[ns]', name='Order Date', freq='MS')"
      ]
     },
     "execution_count": 24,
     "metadata": {},
     "output_type": "execute_result"
    }
   ],
   "source": [
    "furniture.index"
   ]
  },
  {
   "cell_type": "code",
   "execution_count": 25,
   "metadata": {},
   "outputs": [
    {
     "data": {
      "text/html": [
       "<div>\n",
       "<style scoped>\n",
       "    .dataframe tbody tr th:only-of-type {\n",
       "        vertical-align: middle;\n",
       "    }\n",
       "\n",
       "    .dataframe tbody tr th {\n",
       "        vertical-align: top;\n",
       "    }\n",
       "\n",
       "    .dataframe thead th {\n",
       "        text-align: right;\n",
       "    }\n",
       "</style>\n",
       "<table border=\"1\" class=\"dataframe\">\n",
       "  <thead>\n",
       "    <tr style=\"text-align: right;\">\n",
       "      <th></th>\n",
       "      <th>Sales</th>\n",
       "    </tr>\n",
       "    <tr>\n",
       "      <th>Order Date</th>\n",
       "      <th></th>\n",
       "    </tr>\n",
       "  </thead>\n",
       "  <tbody>\n",
       "    <tr>\n",
       "      <th>2014-01-01</th>\n",
       "      <td>480.194231</td>\n",
       "    </tr>\n",
       "    <tr>\n",
       "      <th>2014-02-01</th>\n",
       "      <td>367.931600</td>\n",
       "    </tr>\n",
       "    <tr>\n",
       "      <th>2014-03-01</th>\n",
       "      <td>857.291529</td>\n",
       "    </tr>\n",
       "    <tr>\n",
       "      <th>2014-04-01</th>\n",
       "      <td>567.488357</td>\n",
       "    </tr>\n",
       "    <tr>\n",
       "      <th>2014-05-01</th>\n",
       "      <td>432.049188</td>\n",
       "    </tr>\n",
       "    <tr>\n",
       "      <th>2014-06-01</th>\n",
       "      <td>695.059242</td>\n",
       "    </tr>\n",
       "    <tr>\n",
       "      <th>2014-07-01</th>\n",
       "      <td>601.169500</td>\n",
       "    </tr>\n",
       "    <tr>\n",
       "      <th>2014-08-01</th>\n",
       "      <td>457.521656</td>\n",
       "    </tr>\n",
       "    <tr>\n",
       "      <th>2014-09-01</th>\n",
       "      <td>992.353367</td>\n",
       "    </tr>\n",
       "    <tr>\n",
       "      <th>2014-10-01</th>\n",
       "      <td>769.015437</td>\n",
       "    </tr>\n",
       "    <tr>\n",
       "      <th>2014-11-01</th>\n",
       "      <td>980.221486</td>\n",
       "    </tr>\n",
       "    <tr>\n",
       "      <th>2014-12-01</th>\n",
       "      <td>1532.298325</td>\n",
       "    </tr>\n",
       "    <tr>\n",
       "      <th>2015-01-01</th>\n",
       "      <td>978.328467</td>\n",
       "    </tr>\n",
       "    <tr>\n",
       "      <th>2015-02-01</th>\n",
       "      <td>522.395667</td>\n",
       "    </tr>\n",
       "    <tr>\n",
       "      <th>2015-03-01</th>\n",
       "      <td>781.236437</td>\n",
       "    </tr>\n",
       "    <tr>\n",
       "      <th>2015-04-01</th>\n",
       "      <td>805.822962</td>\n",
       "    </tr>\n",
       "    <tr>\n",
       "      <th>2015-05-01</th>\n",
       "      <td>624.996700</td>\n",
       "    </tr>\n",
       "    <tr>\n",
       "      <th>2015-06-01</th>\n",
       "      <td>428.565500</td>\n",
       "    </tr>\n",
       "    <tr>\n",
       "      <th>2015-07-01</th>\n",
       "      <td>719.706316</td>\n",
       "    </tr>\n",
       "    <tr>\n",
       "      <th>2015-08-01</th>\n",
       "      <td>602.412012</td>\n",
       "    </tr>\n",
       "    <tr>\n",
       "      <th>2015-09-01</th>\n",
       "      <td>1382.790684</td>\n",
       "    </tr>\n",
       "    <tr>\n",
       "      <th>2015-10-01</th>\n",
       "      <td>632.980184</td>\n",
       "    </tr>\n",
       "    <tr>\n",
       "      <th>2015-11-01</th>\n",
       "      <td>1286.701354</td>\n",
       "    </tr>\n",
       "    <tr>\n",
       "      <th>2015-12-01</th>\n",
       "      <td>1049.355418</td>\n",
       "    </tr>\n",
       "    <tr>\n",
       "      <th>2016-01-01</th>\n",
       "      <td>508.182867</td>\n",
       "    </tr>\n",
       "    <tr>\n",
       "      <th>2016-02-01</th>\n",
       "      <td>356.868273</td>\n",
       "    </tr>\n",
       "    <tr>\n",
       "      <th>2016-03-01</th>\n",
       "      <td>609.575810</td>\n",
       "    </tr>\n",
       "    <tr>\n",
       "      <th>2016-04-01</th>\n",
       "      <td>695.373158</td>\n",
       "    </tr>\n",
       "    <tr>\n",
       "      <th>2016-05-01</th>\n",
       "      <td>687.265227</td>\n",
       "    </tr>\n",
       "    <tr>\n",
       "      <th>2016-06-01</th>\n",
       "      <td>816.910750</td>\n",
       "    </tr>\n",
       "    <tr>\n",
       "      <th>2016-07-01</th>\n",
       "      <td>768.736412</td>\n",
       "    </tr>\n",
       "    <tr>\n",
       "      <th>2016-08-01</th>\n",
       "      <td>734.307782</td>\n",
       "    </tr>\n",
       "    <tr>\n",
       "      <th>2016-09-01</th>\n",
       "      <td>1135.953371</td>\n",
       "    </tr>\n",
       "    <tr>\n",
       "      <th>2016-10-01</th>\n",
       "      <td>624.872474</td>\n",
       "    </tr>\n",
       "    <tr>\n",
       "      <th>2016-11-01</th>\n",
       "      <td>1271.345152</td>\n",
       "    </tr>\n",
       "    <tr>\n",
       "      <th>2016-12-01</th>\n",
       "      <td>1410.719808</td>\n",
       "    </tr>\n",
       "    <tr>\n",
       "      <th>2017-01-01</th>\n",
       "      <td>397.602133</td>\n",
       "    </tr>\n",
       "    <tr>\n",
       "      <th>2017-02-01</th>\n",
       "      <td>528.179800</td>\n",
       "    </tr>\n",
       "    <tr>\n",
       "      <th>2017-03-01</th>\n",
       "      <td>544.672240</td>\n",
       "    </tr>\n",
       "    <tr>\n",
       "      <th>2017-04-01</th>\n",
       "      <td>453.297905</td>\n",
       "    </tr>\n",
       "    <tr>\n",
       "      <th>2017-05-01</th>\n",
       "      <td>678.302328</td>\n",
       "    </tr>\n",
       "    <tr>\n",
       "      <th>2017-06-01</th>\n",
       "      <td>826.460291</td>\n",
       "    </tr>\n",
       "    <tr>\n",
       "      <th>2017-07-01</th>\n",
       "      <td>562.524857</td>\n",
       "    </tr>\n",
       "    <tr>\n",
       "      <th>2017-08-01</th>\n",
       "      <td>857.881889</td>\n",
       "    </tr>\n",
       "    <tr>\n",
       "      <th>2017-09-01</th>\n",
       "      <td>1209.508583</td>\n",
       "    </tr>\n",
       "    <tr>\n",
       "      <th>2017-10-01</th>\n",
       "      <td>875.362728</td>\n",
       "    </tr>\n",
       "    <tr>\n",
       "      <th>2017-11-01</th>\n",
       "      <td>1277.817759</td>\n",
       "    </tr>\n",
       "    <tr>\n",
       "      <th>2017-12-01</th>\n",
       "      <td>1256.298672</td>\n",
       "    </tr>\n",
       "  </tbody>\n",
       "</table>\n",
       "</div>"
      ],
      "text/plain": [
       "                  Sales\n",
       "Order Date             \n",
       "2014-01-01   480.194231\n",
       "2014-02-01   367.931600\n",
       "2014-03-01   857.291529\n",
       "2014-04-01   567.488357\n",
       "2014-05-01   432.049188\n",
       "2014-06-01   695.059242\n",
       "2014-07-01   601.169500\n",
       "2014-08-01   457.521656\n",
       "2014-09-01   992.353367\n",
       "2014-10-01   769.015437\n",
       "2014-11-01   980.221486\n",
       "2014-12-01  1532.298325\n",
       "2015-01-01   978.328467\n",
       "2015-02-01   522.395667\n",
       "2015-03-01   781.236437\n",
       "2015-04-01   805.822962\n",
       "2015-05-01   624.996700\n",
       "2015-06-01   428.565500\n",
       "2015-07-01   719.706316\n",
       "2015-08-01   602.412012\n",
       "2015-09-01  1382.790684\n",
       "2015-10-01   632.980184\n",
       "2015-11-01  1286.701354\n",
       "2015-12-01  1049.355418\n",
       "2016-01-01   508.182867\n",
       "2016-02-01   356.868273\n",
       "2016-03-01   609.575810\n",
       "2016-04-01   695.373158\n",
       "2016-05-01   687.265227\n",
       "2016-06-01   816.910750\n",
       "2016-07-01   768.736412\n",
       "2016-08-01   734.307782\n",
       "2016-09-01  1135.953371\n",
       "2016-10-01   624.872474\n",
       "2016-11-01  1271.345152\n",
       "2016-12-01  1410.719808\n",
       "2017-01-01   397.602133\n",
       "2017-02-01   528.179800\n",
       "2017-03-01   544.672240\n",
       "2017-04-01   453.297905\n",
       "2017-05-01   678.302328\n",
       "2017-06-01   826.460291\n",
       "2017-07-01   562.524857\n",
       "2017-08-01   857.881889\n",
       "2017-09-01  1209.508583\n",
       "2017-10-01   875.362728\n",
       "2017-11-01  1277.817759\n",
       "2017-12-01  1256.298672"
      ]
     },
     "execution_count": 25,
     "metadata": {},
     "output_type": "execute_result"
    }
   ],
   "source": [
    "furniture['2013':]"
   ]
  },
  {
   "cell_type": "code",
   "execution_count": 26,
   "metadata": {},
   "outputs": [
    {
     "data": {
      "text/plain": [
       "Timestamp('2014-01-01 00:00:00', freq='MS')"
      ]
     },
     "execution_count": 26,
     "metadata": {},
     "output_type": "execute_result"
    }
   ],
   "source": [
    "min(furniture.index)"
   ]
  },
  {
   "cell_type": "code",
   "execution_count": 27,
   "metadata": {},
   "outputs": [
    {
     "data": {
      "image/png": "[encoded data removed]",
      "text/plain": [
       "<Figure size 1080x432 with 1 Axes>"
      ]
     },
     "metadata": {},
     "output_type": "display_data"
    }
   ],
   "source": [
    "#visually checking the time series for trend and other componenets\n",
    "furniture.plot(figsize=(15, 6))\n",
    "plt.show()"
   ]
  },
  {
   "cell_type": "code",
   "execution_count": 28,
   "metadata": {},
   "outputs": [],
   "source": [
    "#sns.lineplot(data=furniture)"
   ]
  },
  {
   "cell_type": "markdown",
   "metadata": {},
   "source": [
    "The plot clearly indicates that the time series has seasonality pattern.The sales are always low at the beginning of the year and high at the end of the year. There is always an upward trend within any single year with a couple of low months in the mid of the year"
   ]
  },
  {
   "cell_type": "markdown",
   "metadata": {},
   "source": [
    "# Checking Stationarity\n",
    "Our first step in time-series analysis should be to check whether there is any evidence of a trend or seasonal effects and, if there is, remove them. Augmented Dickey-Fuller(ADF) statistics is one of the more widely used statistical test to check whether your time series is stationary or non-stationary. It uses an autoregressive model and optimizes an information criterion across multiple different lag values.\n",
    "\n",
    "The null hypothesis of the test is that the time series can be represented by a unit root, that it is not stationary (has some time-dependent structure). The alternate hypothesis (rejecting the null hypothesis) is that the time series is stationary."
   ]
  },
  {
   "cell_type": "code",
   "execution_count": 29,
   "metadata": {},
   "outputs": [
    {
     "name": "stdout",
     "output_type": "stream",
     "text": [
      "ADF Statistic: -5.191070\n",
      "p-value: 0.000009\n",
      "Critical Values:\n",
      "1% -3.6209175221605827\n",
      "5% -2.9435394610388332\n",
      "10% -2.6104002410518627\n"
     ]
    }
   ],
   "source": [
    "#Performing the Dickey Fuller test\n",
    "\n",
    "\n",
    "from pandas import Series\n",
    "from statsmodels.tsa.stattools import adfuller\n",
    "\n",
    "result = adfuller(furniture)\n",
    "\n",
    "print('ADF Statistic: %f' % result[0])\n",
    "\n",
    "print('p-value: %f' % result[1])\n",
    "\n",
    "print('Critical Values:')\n",
    "\n",
    "for key, value in result[4].items():\n",
    "       print(key, value)"
   ]
  },
  {
   "cell_type": "markdown",
   "metadata": {},
   "source": [
    "This suggests that we can reject the null hypothesis with a significance level of less than 1% (i.e. a low probability that the result is a statistical fluke). Rejecting the null hypothesis means that the process has no unit root, and in turn that the time series is stationary or does not have time-dependent structure.\n",
    "\n",
    "The p-value is 0.000009, which is way below the threshold (0.05). Hence the null-hypothesis is rejected. It suggests the time series does not have a unit root, meaning it is stationary."
   ]
  },
  {
   "cell_type": "markdown",
   "metadata": {},
   "source": [
    "# Decomposing\n",
    "Decomposing the time series into three distinct components: trend, seasonality, and noise."
   ]
  },
  {
   "cell_type": "code",
   "execution_count": 30,
   "metadata": {},
   "outputs": [
    {
     "data": {
      "image/png": "[encoded data removed]",
      "text/plain": [
       "<Figure size 432x288 with 1 Axes>"
      ]
     },
     "metadata": {},
     "output_type": "display_data"
    },
    {
     "data": {
      "image/png": "[encoded data removed]",
      "text/plain": [
       "<Figure size 432x288 with 1 Axes>"
      ]
     },
     "metadata": {},
     "output_type": "display_data"
    },
    {
     "data": {
      "image/png": "[encoded data removed]",
      "text/plain": [
       "<Figure size 432x288 with 1 Axes>"
      ]
     },
     "metadata": {},
     "output_type": "display_data"
    },
    {
     "data": {
      "text/plain": [
       "<matplotlib.legend.Legend at 0x22b377f3820>"
      ]
     },
     "execution_count": 30,
     "metadata": {},
     "output_type": "execute_result"
    },
    {
     "data": {
      "image/png": "[encoded data removed]",
      "text/plain": [
       "<Figure size 432x288 with 1 Axes>"
      ]
     },
     "metadata": {},
     "output_type": "display_data"
    }
   ],
   "source": [
    "from statsmodels.tsa.seasonal import seasonal_decompose\n",
    "decomposition = seasonal_decompose(furniture)\n",
    "plt.plot(furniture, label = 'Original')\n",
    "plt.legend(loc = 'best')\n",
    "\n",
    "trend = decomposition.trend\n",
    "plt.show()\n",
    "plt.plot(trend, label = 'Trend')\n",
    "plt.legend(loc = 'best')\n",
    "\n",
    "seasonal = decomposition.seasonal\n",
    "plt.show()\n",
    "plt.plot(seasonal, label = 'Seasonal')\n",
    "plt.legend(loc = 'best')\n",
    "\n",
    "residual = decomposition.resid\n",
    "plt.show()\n",
    "plt.plot(residual, label = 'Residual')\n",
    "plt.legend(loc='best')"
   ]
  },
  {
   "cell_type": "code",
   "execution_count": 31,
   "metadata": {},
   "outputs": [
    {
     "data": {
      "text/plain": [
       "(48, 1)"
      ]
     },
     "execution_count": 31,
     "metadata": {},
     "output_type": "execute_result"
    }
   ],
   "source": [
    "#splitting the dataset into training and testing\n",
    "furniture.shape"
   ]
  },
  {
   "cell_type": "code",
   "execution_count": 32,
   "metadata": {},
   "outputs": [
    {
     "data": {
      "text/html": [
       "<div>\n",
       "<style scoped>\n",
       "    .dataframe tbody tr th:only-of-type {\n",
       "        vertical-align: middle;\n",
       "    }\n",
       "\n",
       "    .dataframe tbody tr th {\n",
       "        vertical-align: top;\n",
       "    }\n",
       "\n",
       "    .dataframe thead th {\n",
       "        text-align: right;\n",
       "    }\n",
       "</style>\n",
       "<table border=\"1\" class=\"dataframe\">\n",
       "  <thead>\n",
       "    <tr style=\"text-align: right;\">\n",
       "      <th></th>\n",
       "      <th>Sales</th>\n",
       "    </tr>\n",
       "    <tr>\n",
       "      <th>Order Date</th>\n",
       "      <th></th>\n",
       "    </tr>\n",
       "  </thead>\n",
       "  <tbody>\n",
       "    <tr>\n",
       "      <th>2014-01-01</th>\n",
       "      <td>480.194231</td>\n",
       "    </tr>\n",
       "    <tr>\n",
       "      <th>2014-02-01</th>\n",
       "      <td>367.931600</td>\n",
       "    </tr>\n",
       "    <tr>\n",
       "      <th>2014-03-01</th>\n",
       "      <td>857.291529</td>\n",
       "    </tr>\n",
       "    <tr>\n",
       "      <th>2014-04-01</th>\n",
       "      <td>567.488357</td>\n",
       "    </tr>\n",
       "    <tr>\n",
       "      <th>2014-05-01</th>\n",
       "      <td>432.049188</td>\n",
       "    </tr>\n",
       "    <tr>\n",
       "      <th>2014-06-01</th>\n",
       "      <td>695.059242</td>\n",
       "    </tr>\n",
       "    <tr>\n",
       "      <th>2014-07-01</th>\n",
       "      <td>601.169500</td>\n",
       "    </tr>\n",
       "    <tr>\n",
       "      <th>2014-08-01</th>\n",
       "      <td>457.521656</td>\n",
       "    </tr>\n",
       "    <tr>\n",
       "      <th>2014-09-01</th>\n",
       "      <td>992.353367</td>\n",
       "    </tr>\n",
       "    <tr>\n",
       "      <th>2014-10-01</th>\n",
       "      <td>769.015437</td>\n",
       "    </tr>\n",
       "    <tr>\n",
       "      <th>2014-11-01</th>\n",
       "      <td>980.221486</td>\n",
       "    </tr>\n",
       "    <tr>\n",
       "      <th>2014-12-01</th>\n",
       "      <td>1532.298325</td>\n",
       "    </tr>\n",
       "  </tbody>\n",
       "</table>\n",
       "</div>"
      ],
      "text/plain": [
       "                  Sales\n",
       "Order Date             \n",
       "2014-01-01   480.194231\n",
       "2014-02-01   367.931600\n",
       "2014-03-01   857.291529\n",
       "2014-04-01   567.488357\n",
       "2014-05-01   432.049188\n",
       "2014-06-01   695.059242\n",
       "2014-07-01   601.169500\n",
       "2014-08-01   457.521656\n",
       "2014-09-01   992.353367\n",
       "2014-10-01   769.015437\n",
       "2014-11-01   980.221486\n",
       "2014-12-01  1532.298325"
      ]
     },
     "execution_count": 32,
     "metadata": {},
     "output_type": "execute_result"
    }
   ],
   "source": [
    "train=furniture.iloc[:36];train.head(12)"
   ]
  },
  {
   "cell_type": "code",
   "execution_count": 33,
   "metadata": {},
   "outputs": [
    {
     "data": {
      "text/html": [
       "<div>\n",
       "<style scoped>\n",
       "    .dataframe tbody tr th:only-of-type {\n",
       "        vertical-align: middle;\n",
       "    }\n",
       "\n",
       "    .dataframe tbody tr th {\n",
       "        vertical-align: top;\n",
       "    }\n",
       "\n",
       "    .dataframe thead th {\n",
       "        text-align: right;\n",
       "    }\n",
       "</style>\n",
       "<table border=\"1\" class=\"dataframe\">\n",
       "  <thead>\n",
       "    <tr style=\"text-align: right;\">\n",
       "      <th></th>\n",
       "      <th>Sales</th>\n",
       "    </tr>\n",
       "    <tr>\n",
       "      <th>Order Date</th>\n",
       "      <th></th>\n",
       "    </tr>\n",
       "  </thead>\n",
       "  <tbody>\n",
       "    <tr>\n",
       "      <th>2016-01-01</th>\n",
       "      <td>508.182867</td>\n",
       "    </tr>\n",
       "    <tr>\n",
       "      <th>2016-02-01</th>\n",
       "      <td>356.868273</td>\n",
       "    </tr>\n",
       "    <tr>\n",
       "      <th>2016-03-01</th>\n",
       "      <td>609.575810</td>\n",
       "    </tr>\n",
       "    <tr>\n",
       "      <th>2016-04-01</th>\n",
       "      <td>695.373158</td>\n",
       "    </tr>\n",
       "    <tr>\n",
       "      <th>2016-05-01</th>\n",
       "      <td>687.265227</td>\n",
       "    </tr>\n",
       "    <tr>\n",
       "      <th>2016-06-01</th>\n",
       "      <td>816.910750</td>\n",
       "    </tr>\n",
       "    <tr>\n",
       "      <th>2016-07-01</th>\n",
       "      <td>768.736412</td>\n",
       "    </tr>\n",
       "    <tr>\n",
       "      <th>2016-08-01</th>\n",
       "      <td>734.307782</td>\n",
       "    </tr>\n",
       "    <tr>\n",
       "      <th>2016-09-01</th>\n",
       "      <td>1135.953371</td>\n",
       "    </tr>\n",
       "    <tr>\n",
       "      <th>2016-10-01</th>\n",
       "      <td>624.872474</td>\n",
       "    </tr>\n",
       "    <tr>\n",
       "      <th>2016-11-01</th>\n",
       "      <td>1271.345152</td>\n",
       "    </tr>\n",
       "    <tr>\n",
       "      <th>2016-12-01</th>\n",
       "      <td>1410.719808</td>\n",
       "    </tr>\n",
       "  </tbody>\n",
       "</table>\n",
       "</div>"
      ],
      "text/plain": [
       "                  Sales\n",
       "Order Date             \n",
       "2016-01-01   508.182867\n",
       "2016-02-01   356.868273\n",
       "2016-03-01   609.575810\n",
       "2016-04-01   695.373158\n",
       "2016-05-01   687.265227\n",
       "2016-06-01   816.910750\n",
       "2016-07-01   768.736412\n",
       "2016-08-01   734.307782\n",
       "2016-09-01  1135.953371\n",
       "2016-10-01   624.872474\n",
       "2016-11-01  1271.345152\n",
       "2016-12-01  1410.719808"
      ]
     },
     "execution_count": 33,
     "metadata": {},
     "output_type": "execute_result"
    }
   ],
   "source": [
    "train.tail(12)"
   ]
  },
  {
   "cell_type": "code",
   "execution_count": 34,
   "metadata": {},
   "outputs": [
    {
     "data": {
      "text/html": [
       "<div>\n",
       "<style scoped>\n",
       "    .dataframe tbody tr th:only-of-type {\n",
       "        vertical-align: middle;\n",
       "    }\n",
       "\n",
       "    .dataframe tbody tr th {\n",
       "        vertical-align: top;\n",
       "    }\n",
       "\n",
       "    .dataframe thead th {\n",
       "        text-align: right;\n",
       "    }\n",
       "</style>\n",
       "<table border=\"1\" class=\"dataframe\">\n",
       "  <thead>\n",
       "    <tr style=\"text-align: right;\">\n",
       "      <th></th>\n",
       "      <th>Sales</th>\n",
       "    </tr>\n",
       "    <tr>\n",
       "      <th>Order Date</th>\n",
       "      <th></th>\n",
       "    </tr>\n",
       "  </thead>\n",
       "  <tbody>\n",
       "    <tr>\n",
       "      <th>2017-01-01</th>\n",
       "      <td>397.602133</td>\n",
       "    </tr>\n",
       "    <tr>\n",
       "      <th>2017-02-01</th>\n",
       "      <td>528.179800</td>\n",
       "    </tr>\n",
       "    <tr>\n",
       "      <th>2017-03-01</th>\n",
       "      <td>544.672240</td>\n",
       "    </tr>\n",
       "    <tr>\n",
       "      <th>2017-04-01</th>\n",
       "      <td>453.297905</td>\n",
       "    </tr>\n",
       "    <tr>\n",
       "      <th>2017-05-01</th>\n",
       "      <td>678.302328</td>\n",
       "    </tr>\n",
       "    <tr>\n",
       "      <th>2017-06-01</th>\n",
       "      <td>826.460291</td>\n",
       "    </tr>\n",
       "    <tr>\n",
       "      <th>2017-07-01</th>\n",
       "      <td>562.524857</td>\n",
       "    </tr>\n",
       "    <tr>\n",
       "      <th>2017-08-01</th>\n",
       "      <td>857.881889</td>\n",
       "    </tr>\n",
       "    <tr>\n",
       "      <th>2017-09-01</th>\n",
       "      <td>1209.508583</td>\n",
       "    </tr>\n",
       "    <tr>\n",
       "      <th>2017-10-01</th>\n",
       "      <td>875.362728</td>\n",
       "    </tr>\n",
       "    <tr>\n",
       "      <th>2017-11-01</th>\n",
       "      <td>1277.817759</td>\n",
       "    </tr>\n",
       "    <tr>\n",
       "      <th>2017-12-01</th>\n",
       "      <td>1256.298672</td>\n",
       "    </tr>\n",
       "  </tbody>\n",
       "</table>\n",
       "</div>"
      ],
      "text/plain": [
       "                  Sales\n",
       "Order Date             \n",
       "2017-01-01   397.602133\n",
       "2017-02-01   528.179800\n",
       "2017-03-01   544.672240\n",
       "2017-04-01   453.297905\n",
       "2017-05-01   678.302328\n",
       "2017-06-01   826.460291\n",
       "2017-07-01   562.524857\n",
       "2017-08-01   857.881889\n",
       "2017-09-01  1209.508583\n",
       "2017-10-01   875.362728\n",
       "2017-11-01  1277.817759\n",
       "2017-12-01  1256.298672"
      ]
     },
     "execution_count": 34,
     "metadata": {},
     "output_type": "execute_result"
    }
   ],
   "source": [
    "test=furniture.iloc[36:];test.tail(12)"
   ]
  },
  {
   "cell_type": "code",
   "execution_count": 35,
   "metadata": {},
   "outputs": [],
   "source": [
    "from statsmodels.tsa.api import SimpleExpSmoothing,Holt,ExponentialSmoothing"
   ]
  },
  {
   "cell_type": "code",
   "execution_count": 36,
   "metadata": {},
   "outputs": [
    {
     "data": {
      "text/html": [
       "<table class=\"simpletable\">\n",
       "<caption>SimpleExpSmoothing Model Results</caption>\n",
       "<tr>\n",
       "  <th>Dep. Variable:</th>           <td>Sales</td>       <th>  No. Observations:  </th>        <td>36</td>       \n",
       "</tr>\n",
       "<tr>\n",
       "  <th>Model:</th>            <td>SimpleExpSmoothing</td> <th>  SSE                </th>    <td>3350220.680</td>  \n",
       "</tr>\n",
       "<tr>\n",
       "  <th>Optimized:</th>               <td>True</td>        <th>  AIC                </th>      <td>415.877</td>    \n",
       "</tr>\n",
       "<tr>\n",
       "  <th>Trend:</th>                   <td>None</td>        <th>  BIC                </th>      <td>419.044</td>    \n",
       "</tr>\n",
       "<tr>\n",
       "  <th>Seasonal:</th>                <td>None</td>        <th>  AICC               </th>      <td>417.167</td>    \n",
       "</tr>\n",
       "<tr>\n",
       "  <th>Seasonal Periods:</th>        <td>None</td>        <th>  Date:              </th> <td>Sun, 11 Sep 2022</td>\n",
       "</tr>\n",
       "<tr>\n",
       "  <th>Box-Cox:</th>                 <td>False</td>       <th>  Time:              </th>     <td>08:46:26</td>    \n",
       "</tr>\n",
       "<tr>\n",
       "  <th>Box-Cox Coeff.:</th>          <td>None</td>        <th>                     </th>         <td> </td>       \n",
       "</tr>\n",
       "</table>\n",
       "<table class=\"simpletable\">\n",
       "<tr>\n",
       "         <td></td>                 <th>coeff</th>                <th>code</th>               <th>optimized</th>     \n",
       "</tr>\n",
       "<tr>\n",
       "  <th>smoothing_level</th> <td>           0.0100000</td> <td>               alpha</td> <td>               False</td>\n",
       "</tr>\n",
       "<tr>\n",
       "  <th>initial_level</th>   <td>           780.69338</td> <td>                 l.0</td> <td>                True</td>\n",
       "</tr>\n",
       "</table>"
      ],
      "text/plain": [
       "<class 'statsmodels.iolib.summary.Summary'>\n",
       "\"\"\"\n",
       "                       SimpleExpSmoothing Model Results                       \n",
       "==============================================================================\n",
       "Dep. Variable:                  Sales   No. Observations:                   36\n",
       "Model:             SimpleExpSmoothing   SSE                        3350220.680\n",
       "Optimized:                       True   AIC                            415.877\n",
       "Trend:                           None   BIC                            419.044\n",
       "Seasonal:                        None   AICC                           417.167\n",
       "Seasonal Periods:                None   Date:                 Sun, 11 Sep 2022\n",
       "Box-Cox:                        False   Time:                         08:46:26\n",
       "Box-Cox Coeff.:                  None                                         \n",
       "==============================================================================\n",
       "                       coeff                 code              optimized      \n",
       "------------------------------------------------------------------------------\n",
       "smoothing_level            0.0100000                alpha                False\n",
       "initial_level              780.69338                  l.0                 True\n",
       "------------------------------------------------------------------------------\n",
       "\"\"\""
      ]
     },
     "execution_count": 36,
     "metadata": {},
     "output_type": "execute_result"
    }
   ],
   "source": [
    "Sin_ES=SimpleExpSmoothing(train).fit(smoothing_level=0.01);Sin_ES.summary()"
   ]
  },
  {
   "cell_type": "code",
   "execution_count": 37,
   "metadata": {},
   "outputs": [
    {
     "data": {
      "image/png": "[encoded data removed]",
      "text/plain": [
       "<Figure size 1080x432 with 1 Axes>"
      ]
     },
     "metadata": {},
     "output_type": "display_data"
    }
   ],
   "source": [
    "furniture.plot(figsize=(15, 6))\n",
    "plt.show()"
   ]
  },
  {
   "cell_type": "code",
   "execution_count": 38,
   "metadata": {},
   "outputs": [
    {
     "data": {
      "text/plain": [
       "2017-01-01    784.197375\n",
       "2017-02-01    784.197375\n",
       "2017-03-01    784.197375\n",
       "2017-04-01    784.197375\n",
       "2017-05-01    784.197375\n",
       "2017-06-01    784.197375\n",
       "2017-07-01    784.197375\n",
       "2017-08-01    784.197375\n",
       "2017-09-01    784.197375\n",
       "2017-10-01    784.197375\n",
       "2017-11-01    784.197375\n",
       "2017-12-01    784.197375\n",
       "Freq: MS, dtype: float64"
      ]
     },
     "execution_count": 38,
     "metadata": {},
     "output_type": "execute_result"
    }
   ],
   "source": [
    "Forecast_One_Yr=Sin_ES.forecast(12)#.rename('Forecast');\n",
    "Forecast_One_Yr"
   ]
  },
  {
   "cell_type": "code",
   "execution_count": 39,
   "metadata": {},
   "outputs": [
    {
     "data": {
      "text/html": [
       "<div>\n",
       "<style scoped>\n",
       "    .dataframe tbody tr th:only-of-type {\n",
       "        vertical-align: middle;\n",
       "    }\n",
       "\n",
       "    .dataframe tbody tr th {\n",
       "        vertical-align: top;\n",
       "    }\n",
       "\n",
       "    .dataframe thead th {\n",
       "        text-align: right;\n",
       "    }\n",
       "</style>\n",
       "<table border=\"1\" class=\"dataframe\">\n",
       "  <thead>\n",
       "    <tr style=\"text-align: right;\">\n",
       "      <th></th>\n",
       "      <th>Sales</th>\n",
       "      <th>Forecast</th>\n",
       "    </tr>\n",
       "    <tr>\n",
       "      <th>Order Date</th>\n",
       "      <th></th>\n",
       "      <th></th>\n",
       "    </tr>\n",
       "  </thead>\n",
       "  <tbody>\n",
       "    <tr>\n",
       "      <th>2017-01-01</th>\n",
       "      <td>397.602133</td>\n",
       "      <td>784.197375</td>\n",
       "    </tr>\n",
       "    <tr>\n",
       "      <th>2017-02-01</th>\n",
       "      <td>528.179800</td>\n",
       "      <td>784.197375</td>\n",
       "    </tr>\n",
       "    <tr>\n",
       "      <th>2017-03-01</th>\n",
       "      <td>544.672240</td>\n",
       "      <td>784.197375</td>\n",
       "    </tr>\n",
       "    <tr>\n",
       "      <th>2017-04-01</th>\n",
       "      <td>453.297905</td>\n",
       "      <td>784.197375</td>\n",
       "    </tr>\n",
       "    <tr>\n",
       "      <th>2017-05-01</th>\n",
       "      <td>678.302328</td>\n",
       "      <td>784.197375</td>\n",
       "    </tr>\n",
       "    <tr>\n",
       "      <th>2017-06-01</th>\n",
       "      <td>826.460291</td>\n",
       "      <td>784.197375</td>\n",
       "    </tr>\n",
       "    <tr>\n",
       "      <th>2017-07-01</th>\n",
       "      <td>562.524857</td>\n",
       "      <td>784.197375</td>\n",
       "    </tr>\n",
       "    <tr>\n",
       "      <th>2017-08-01</th>\n",
       "      <td>857.881889</td>\n",
       "      <td>784.197375</td>\n",
       "    </tr>\n",
       "    <tr>\n",
       "      <th>2017-09-01</th>\n",
       "      <td>1209.508583</td>\n",
       "      <td>784.197375</td>\n",
       "    </tr>\n",
       "    <tr>\n",
       "      <th>2017-10-01</th>\n",
       "      <td>875.362728</td>\n",
       "      <td>784.197375</td>\n",
       "    </tr>\n",
       "    <tr>\n",
       "      <th>2017-11-01</th>\n",
       "      <td>1277.817759</td>\n",
       "      <td>784.197375</td>\n",
       "    </tr>\n",
       "    <tr>\n",
       "      <th>2017-12-01</th>\n",
       "      <td>1256.298672</td>\n",
       "      <td>784.197375</td>\n",
       "    </tr>\n",
       "  </tbody>\n",
       "</table>\n",
       "</div>"
      ],
      "text/plain": [
       "                  Sales    Forecast\n",
       "Order Date                         \n",
       "2017-01-01   397.602133  784.197375\n",
       "2017-02-01   528.179800  784.197375\n",
       "2017-03-01   544.672240  784.197375\n",
       "2017-04-01   453.297905  784.197375\n",
       "2017-05-01   678.302328  784.197375\n",
       "2017-06-01   826.460291  784.197375\n",
       "2017-07-01   562.524857  784.197375\n",
       "2017-08-01   857.881889  784.197375\n",
       "2017-09-01  1209.508583  784.197375\n",
       "2017-10-01   875.362728  784.197375\n",
       "2017-11-01  1277.817759  784.197375\n",
       "2017-12-01  1256.298672  784.197375"
      ]
     },
     "execution_count": 39,
     "metadata": {},
     "output_type": "execute_result"
    }
   ],
   "source": [
    "furniture['Forecast']=Forecast_One_Yr;furniture.tail(12)"
   ]
  },
  {
   "cell_type": "code",
   "execution_count": 40,
   "metadata": {},
   "outputs": [],
   "source": [
    "furniture['Error']=(abs(furniture['Sales']-furniture['Forecast'])/\n",
    "                           furniture['Sales'])*100"
   ]
  },
  {
   "cell_type": "code",
   "execution_count": 41,
   "metadata": {},
   "outputs": [
    {
     "data": {
      "text/plain": [
       "Order Date\n",
       "2017-01-01    97.231682\n",
       "2017-02-01    48.471671\n",
       "2017-03-01    43.976013\n",
       "2017-04-01    72.998235\n",
       "2017-05-01    15.611777\n",
       "2017-06-01     5.113726\n",
       "2017-07-01    39.406706\n",
       "2017-08-01     8.589121\n",
       "2017-09-01    35.163968\n",
       "2017-10-01    10.414580\n",
       "2017-11-01    38.629952\n",
       "2017-12-01    37.578747\n",
       "Freq: MS, Name: Error, dtype: float64"
      ]
     },
     "execution_count": 41,
     "metadata": {},
     "output_type": "execute_result"
    }
   ],
   "source": [
    "#Absolute error\n",
    "furniture['Error'][-12:]"
   ]
  },
  {
   "cell_type": "code",
   "execution_count": 42,
   "metadata": {},
   "outputs": [
    {
     "data": {
      "text/plain": [
       "37.76551480698748"
      ]
     },
     "execution_count": 42,
     "metadata": {},
     "output_type": "execute_result"
    }
   ],
   "source": [
    "np.mean(furniture['Error']) #Average error --- MAPE   bounded 0 to 100"
   ]
  },
  {
   "cell_type": "code",
   "execution_count": 43,
   "metadata": {},
   "outputs": [
    {
     "data": {
      "text/plain": [
       "303.4766767924757"
      ]
     },
     "execution_count": 43,
     "metadata": {},
     "output_type": "execute_result"
    }
   ],
   "source": [
    "np.sqrt(np.mean((furniture['Sales']-furniture['Forecast'])**2)) #Root mean squared error  unbounded"
   ]
  },
  {
   "cell_type": "code",
   "execution_count": 44,
   "metadata": {},
   "outputs": [
    {
     "data": {
      "text/html": [
       "<table class=\"simpletable\">\n",
       "<caption>Holt Model Results</caption>\n",
       "<tr>\n",
       "  <th>Dep. Variable:</th>      <td>Sales</td>  <th>  No. Observations:  </th>        <td>36</td>       \n",
       "</tr>\n",
       "<tr>\n",
       "  <th>Model:</th>              <td>Holt</td>   <th>  SSE                </th>    <td>3172630.954</td>  \n",
       "</tr>\n",
       "<tr>\n",
       "  <th>Optimized:</th>          <td>True</td>   <th>  AIC                </th>      <td>417.916</td>    \n",
       "</tr>\n",
       "<tr>\n",
       "  <th>Trend:</th>            <td>Additive</td> <th>  BIC                </th>      <td>424.250</td>    \n",
       "</tr>\n",
       "<tr>\n",
       "  <th>Seasonal:</th>           <td>None</td>   <th>  AICC               </th>      <td>420.812</td>    \n",
       "</tr>\n",
       "<tr>\n",
       "  <th>Seasonal Periods:</th>   <td>None</td>   <th>  Date:              </th> <td>Sun, 11 Sep 2022</td>\n",
       "</tr>\n",
       "<tr>\n",
       "  <th>Box-Cox:</th>            <td>False</td>  <th>  Time:              </th>     <td>08:46:27</td>    \n",
       "</tr>\n",
       "<tr>\n",
       "  <th>Box-Cox Coeff.:</th>     <td>None</td>   <th>                     </th>         <td> </td>       \n",
       "</tr>\n",
       "</table>\n",
       "<table class=\"simpletable\">\n",
       "<tr>\n",
       "         <td></td>                 <th>coeff</th>                <th>code</th>               <th>optimized</th>     \n",
       "</tr>\n",
       "<tr>\n",
       "  <th>smoothing_level</th> <td>           0.0100000</td> <td>               alpha</td> <td>               False</td>\n",
       "</tr>\n",
       "<tr>\n",
       "  <th>smoothing_trend</th> <td>           0.6000000</td> <td>                beta</td> <td>               False</td>\n",
       "</tr>\n",
       "<tr>\n",
       "  <th>initial_level</th>   <td>           653.76501</td> <td>                 l.0</td> <td>                True</td>\n",
       "</tr>\n",
       "<tr>\n",
       "  <th>initial_trend</th>   <td>           7.9100145</td> <td>                 b.0</td> <td>                True</td>\n",
       "</tr>\n",
       "</table>"
      ],
      "text/plain": [
       "<class 'statsmodels.iolib.summary.Summary'>\n",
       "\"\"\"\n",
       "                              Holt Model Results                              \n",
       "==============================================================================\n",
       "Dep. Variable:                  Sales   No. Observations:                   36\n",
       "Model:                           Holt   SSE                        3172630.954\n",
       "Optimized:                       True   AIC                            417.916\n",
       "Trend:                       Additive   BIC                            424.250\n",
       "Seasonal:                        None   AICC                           420.812\n",
       "Seasonal Periods:                None   Date:                 Sun, 11 Sep 2022\n",
       "Box-Cox:                        False   Time:                         08:46:27\n",
       "Box-Cox Coeff.:                  None                                         \n",
       "==============================================================================\n",
       "                       coeff                 code              optimized      \n",
       "------------------------------------------------------------------------------\n",
       "smoothing_level            0.0100000                alpha                False\n",
       "smoothing_trend            0.6000000                 beta                False\n",
       "initial_level              653.76501                  l.0                 True\n",
       "initial_trend              7.9100145                  b.0                 True\n",
       "------------------------------------------------------------------------------\n",
       "\"\"\""
      ]
     },
     "execution_count": 44,
     "metadata": {},
     "output_type": "execute_result"
    }
   ],
   "source": [
    "#Double Exponential Smoothing\n",
    "\n",
    "Dbl_Es=Holt(train).fit(smoothing_level=0.01,smoothing_trend=0.6)\n",
    "\n",
    "\n",
    "Dbl_Es.summary()"
   ]
  },
  {
   "cell_type": "code",
   "execution_count": 45,
   "metadata": {},
   "outputs": [],
   "source": [
    "furniture['Forecast_Dbl_Es']=Dbl_Es.forecast(12)"
   ]
  },
  {
   "cell_type": "code",
   "execution_count": 46,
   "metadata": {},
   "outputs": [
    {
     "data": {
      "text/plain": [
       "2017-01-01    913.154715\n",
       "2017-02-01    920.728337\n",
       "2017-03-01    928.301959\n",
       "2017-04-01    935.875581\n",
       "2017-05-01    943.449203\n",
       "2017-06-01    951.022825\n",
       "2017-07-01    958.596447\n",
       "2017-08-01    966.170068\n",
       "2017-09-01    973.743690\n",
       "2017-10-01    981.317312\n",
       "2017-11-01    988.890934\n",
       "2017-12-01    996.464556\n",
       "Freq: MS, dtype: float64"
      ]
     },
     "execution_count": 46,
     "metadata": {},
     "output_type": "execute_result"
    }
   ],
   "source": [
    "Dbl_Es.forecast(12)"
   ]
  },
  {
   "cell_type": "code",
   "execution_count": 47,
   "metadata": {},
   "outputs": [
    {
     "data": {
      "image/png": "[encoded data removed]",
      "text/plain": [
       "<Figure size 1080x432 with 1 Axes>"
      ]
     },
     "metadata": {},
     "output_type": "display_data"
    }
   ],
   "source": [
    "furniture.plot(figsize=(15, 6))\n",
    "plt.show()"
   ]
  },
  {
   "cell_type": "code",
   "execution_count": 48,
   "metadata": {},
   "outputs": [],
   "source": [
    "furniture['dbl_Es_Error']=(abs(furniture['Sales']-furniture['Forecast_Dbl_Es'])/\n",
    "                           furniture['Sales'])*100"
   ]
  },
  {
   "cell_type": "code",
   "execution_count": 49,
   "metadata": {},
   "outputs": [
    {
     "data": {
      "text/plain": [
       "Order Date\n",
       "2017-01-01    129.665447\n",
       "2017-02-01     74.321005\n",
       "2017-03-01     70.433132\n",
       "2017-04-01    106.459278\n",
       "2017-05-01     39.089778\n",
       "2017-06-01     15.071811\n",
       "2017-07-01     70.409616\n",
       "2017-08-01     12.622738\n",
       "2017-09-01     19.492618\n",
       "2017-10-01     12.104078\n",
       "2017-11-01     22.610957\n",
       "2017-12-01     20.682511\n",
       "Freq: MS, Name: dbl_Es_Error, dtype: float64"
      ]
     },
     "execution_count": 49,
     "metadata": {},
     "output_type": "execute_result"
    }
   ],
   "source": [
    "furniture['dbl_Es_Error'][-12:]"
   ]
  },
  {
   "cell_type": "code",
   "execution_count": 50,
   "metadata": {},
   "outputs": [
    {
     "data": {
      "text/plain": [
       "49.413580724032535"
      ]
     },
     "execution_count": 50,
     "metadata": {},
     "output_type": "execute_result"
    }
   ],
   "source": [
    "np.mean(furniture['dbl_Es_Error']) #Average error --- MAPE   bounded 0 to 100"
   ]
  },
  {
   "cell_type": "code",
   "execution_count": 51,
   "metadata": {},
   "outputs": [
    {
     "data": {
      "text/plain": [
       "325.59732970976637"
      ]
     },
     "execution_count": 51,
     "metadata": {},
     "output_type": "execute_result"
    }
   ],
   "source": [
    "np.sqrt(np.mean((furniture['Sales']-furniture['Forecast_Dbl_Es'])**2)) #Root mean squared error  unbounded"
   ]
  },
  {
   "cell_type": "code",
   "execution_count": 52,
   "metadata": {},
   "outputs": [],
   "source": [
    "Tpl_Es=ExponentialSmoothing(train,seasonal_periods=12,seasonal='add',trend='add').fit(\n",
    "smoothing_level=0.01,smoothing_trend=0.1,smoothing_seasonal=0.3)"
   ]
  },
  {
   "cell_type": "code",
   "execution_count": 53,
   "metadata": {},
   "outputs": [
    {
     "data": {
      "text/html": [
       "<table class=\"simpletable\">\n",
       "<caption>ExponentialSmoothing Model Results</caption>\n",
       "<tr>\n",
       "  <th>Dep. Variable:</th>            <td>Sales</td>        <th>  No. Observations:  </th>        <td>36</td>       \n",
       "</tr>\n",
       "<tr>\n",
       "  <th>Model:</th>            <td>ExponentialSmoothing</td> <th>  SSE                </th>    <td>883780.541</td>   \n",
       "</tr>\n",
       "<tr>\n",
       "  <th>Optimized:</th>                <td>True</td>         <th>  AIC                </th>      <td>395.904</td>    \n",
       "</tr>\n",
       "<tr>\n",
       "  <th>Trend:</th>                  <td>Additive</td>       <th>  BIC                </th>      <td>421.240</td>    \n",
       "</tr>\n",
       "<tr>\n",
       "  <th>Seasonal:</th>               <td>Additive</td>       <th>  AICC               </th>      <td>436.139</td>    \n",
       "</tr>\n",
       "<tr>\n",
       "  <th>Seasonal Periods:</th>          <td>12</td>          <th>  Date:              </th> <td>Sun, 11 Sep 2022</td>\n",
       "</tr>\n",
       "<tr>\n",
       "  <th>Box-Cox:</th>                  <td>False</td>        <th>  Time:              </th>     <td>08:46:27</td>    \n",
       "</tr>\n",
       "<tr>\n",
       "  <th>Box-Cox Coeff.:</th>           <td>None</td>         <th>                     </th>         <td> </td>       \n",
       "</tr>\n",
       "</table>\n",
       "<table class=\"simpletable\">\n",
       "<tr>\n",
       "           <td></td>                  <th>coeff</th>                <th>code</th>               <th>optimized</th>     \n",
       "</tr>\n",
       "<tr>\n",
       "  <th>smoothing_level</th>    <td>           0.0100000</td> <td>               alpha</td> <td>               False</td>\n",
       "</tr>\n",
       "<tr>\n",
       "  <th>smoothing_trend</th>    <td>           0.1000000</td> <td>                beta</td> <td>               False</td>\n",
       "</tr>\n",
       "<tr>\n",
       "  <th>smoothing_seasonal</th> <td>           0.3000000</td> <td>               gamma</td> <td>               False</td>\n",
       "</tr>\n",
       "<tr>\n",
       "  <th>initial_level</th>      <td>           728.59601</td> <td>                 l.0</td> <td>                True</td>\n",
       "</tr>\n",
       "<tr>\n",
       "  <th>initial_trend</th>      <td>           3.0340835</td> <td>                 b.0</td> <td>                True</td>\n",
       "</tr>\n",
       "<tr>\n",
       "  <th>initial_seasons.0</th>  <td>          -115.68613</td> <td>                 s.0</td> <td>                True</td>\n",
       "</tr>\n",
       "<tr>\n",
       "  <th>initial_seasons.1</th>  <td>          -351.66329</td> <td>                 s.1</td> <td>                True</td>\n",
       "</tr>\n",
       "<tr>\n",
       "  <th>initial_seasons.2</th>  <td>          -5.3435362</td> <td>                 s.2</td> <td>                True</td>\n",
       "</tr>\n",
       "<tr>\n",
       "  <th>initial_seasons.3</th>  <td>          -91.245926</td> <td>                 s.3</td> <td>                True</td>\n",
       "</tr>\n",
       "<tr>\n",
       "  <th>initial_seasons.4</th>  <td>          -208.52835</td> <td>                 s.4</td> <td>                True</td>\n",
       "</tr>\n",
       "<tr>\n",
       "  <th>initial_seasons.5</th>  <td>          -133.26636</td> <td>                 s.5</td> <td>                True</td>\n",
       "</tr>\n",
       "<tr>\n",
       "  <th>initial_seasons.6</th>  <td>          -94.378469</td> <td>                 s.6</td> <td>                True</td>\n",
       "</tr>\n",
       "<tr>\n",
       "  <th>initial_seasons.7</th>  <td>          -202.09648</td> <td>                 s.7</td> <td>                True</td>\n",
       "</tr>\n",
       "<tr>\n",
       "  <th>initial_seasons.8</th>  <td>           370.20147</td> <td>                 s.8</td> <td>                True</td>\n",
       "</tr>\n",
       "<tr>\n",
       "  <th>initial_seasons.9</th>  <td>          -105.44436</td> <td>                 s.9</td> <td>                True</td>\n",
       "</tr>\n",
       "<tr>\n",
       "  <th>initial_seasons.10</th> <td>           367.20442</td> <td>                s.10</td> <td>                True</td>\n",
       "</tr>\n",
       "<tr>\n",
       "  <th>initial_seasons.11</th> <td>           547.48428</td> <td>                s.11</td> <td>                True</td>\n",
       "</tr>\n",
       "</table>"
      ],
      "text/plain": [
       "<class 'statsmodels.iolib.summary.Summary'>\n",
       "\"\"\"\n",
       "                       ExponentialSmoothing Model Results                       \n",
       "================================================================================\n",
       "Dep. Variable:                    Sales   No. Observations:                   36\n",
       "Model:             ExponentialSmoothing   SSE                         883780.541\n",
       "Optimized:                         True   AIC                            395.904\n",
       "Trend:                         Additive   BIC                            421.240\n",
       "Seasonal:                      Additive   AICC                           436.139\n",
       "Seasonal Periods:                    12   Date:                 Sun, 11 Sep 2022\n",
       "Box-Cox:                          False   Time:                         08:46:27\n",
       "Box-Cox Coeff.:                    None                                         \n",
       "=================================================================================\n",
       "                          coeff                 code              optimized      \n",
       "---------------------------------------------------------------------------------\n",
       "smoothing_level               0.0100000                alpha                False\n",
       "smoothing_trend               0.1000000                 beta                False\n",
       "smoothing_seasonal            0.3000000                gamma                False\n",
       "initial_level                 728.59601                  l.0                 True\n",
       "initial_trend                 3.0340835                  b.0                 True\n",
       "initial_seasons.0            -115.68613                  s.0                 True\n",
       "initial_seasons.1            -351.66329                  s.1                 True\n",
       "initial_seasons.2            -5.3435362                  s.2                 True\n",
       "initial_seasons.3            -91.245926                  s.3                 True\n",
       "initial_seasons.4            -208.52835                  s.4                 True\n",
       "initial_seasons.5            -133.26636                  s.5                 True\n",
       "initial_seasons.6            -94.378469                  s.6                 True\n",
       "initial_seasons.7            -202.09648                  s.7                 True\n",
       "initial_seasons.8             370.20147                  s.8                 True\n",
       "initial_seasons.9            -105.44436                  s.9                 True\n",
       "initial_seasons.10            367.20442                 s.10                 True\n",
       "initial_seasons.11            547.48428                 s.11                 True\n",
       "---------------------------------------------------------------------------------\n",
       "\"\"\""
      ]
     },
     "execution_count": 53,
     "metadata": {},
     "output_type": "execute_result"
    }
   ],
   "source": [
    "Tpl_Es.summary()"
   ]
  },
  {
   "cell_type": "code",
   "execution_count": 54,
   "metadata": {},
   "outputs": [],
   "source": [
    "furniture['Forecast_Tpl_Es']=Tpl_Es.forecast(12)"
   ]
  },
  {
   "cell_type": "code",
   "execution_count": 55,
   "metadata": {},
   "outputs": [
    {
     "data": {
      "image/png": "[encoded data removed]",
      "text/plain": [
       "<Figure size 1080x432 with 1 Axes>"
      ]
     },
     "metadata": {},
     "output_type": "display_data"
    }
   ],
   "source": [
    "furniture.plot(figsize=(15, 6))\n",
    "plt.show()"
   ]
  },
  {
   "cell_type": "code",
   "execution_count": 56,
   "metadata": {},
   "outputs": [],
   "source": [
    "furniture['Tpl_Es_Error']=(abs(furniture['Sales']-furniture['Forecast_Tpl_Es'])/furniture['Sales'])*100"
   ]
  },
  {
   "cell_type": "code",
   "execution_count": 57,
   "metadata": {},
   "outputs": [
    {
     "data": {
      "text/plain": [
       "Order Date\n",
       "2017-01-01    80.832680\n",
       "2017-02-01     8.820286\n",
       "2017-03-01    47.552718\n",
       "2017-04-01    68.571304\n",
       "2017-05-01     2.020480\n",
       "2017-06-01    11.978207\n",
       "2017-07-01    37.693791\n",
       "2017-08-01    20.455435\n",
       "2017-09-01     2.713778\n",
       "2017-10-01    15.863897\n",
       "2017-11-01     1.218912\n",
       "2017-12-01     9.574265\n",
       "Freq: MS, Name: Tpl_Es_Error, dtype: float64"
      ]
     },
     "execution_count": 57,
     "metadata": {},
     "output_type": "execute_result"
    }
   ],
   "source": [
    "furniture['Tpl_Es_Error'][-12:]"
   ]
  },
  {
   "cell_type": "code",
   "execution_count": 58,
   "metadata": {},
   "outputs": [
    {
     "data": {
      "text/plain": [
       "25.607979355760463"
      ]
     },
     "execution_count": 58,
     "metadata": {},
     "output_type": "execute_result"
    }
   ],
   "source": [
    "np.mean(furniture['Tpl_Es_Error']) #Average error --- MAPE   bounded 0 to 100"
   ]
  },
  {
   "cell_type": "code",
   "execution_count": 59,
   "metadata": {},
   "outputs": [
    {
     "data": {
      "text/plain": [
       "180.27248020749795"
      ]
     },
     "execution_count": 59,
     "metadata": {},
     "output_type": "execute_result"
    }
   ],
   "source": [
    "np.sqrt(np.mean((furniture['Sales']-furniture['Forecast_Tpl_Es'])**2)) #Root mean squared error  unbounded"
   ]
  },
  {
   "cell_type": "code",
   "execution_count": 60,
   "metadata": {},
   "outputs": [
    {
     "name": "stdout",
     "output_type": "stream",
     "text": [
      "0.0 0.0 0.0\n",
      "0.0 0.0 0.2\n",
      "0.0 0.0 0.4\n",
      "0.0 0.0 0.6\n",
      "0.0 0.0 0.8\n",
      "0.0 0.0 1.0\n",
      "0.0 0.2 0.0\n",
      "0.0 0.2 0.2\n",
      "0.0 0.2 0.4\n",
      "0.0 0.2 0.6\n",
      "0.0 0.2 0.8\n",
      "0.0 0.2 1.0\n",
      "0.0 0.4 0.0\n",
      "0.0 0.4 0.2\n",
      "0.0 0.4 0.4\n",
      "0.0 0.4 0.6\n",
      "0.0 0.4 0.8\n",
      "0.0 0.4 1.0\n",
      "0.0 0.6 0.0\n",
      "0.0 0.6 0.2\n",
      "0.0 0.6 0.4\n",
      "0.0 0.6 0.6\n",
      "0.0 0.6 0.8\n",
      "0.0 0.6 1.0\n",
      "0.0 0.8 0.0\n",
      "0.0 0.8 0.2\n",
      "0.0 0.8 0.4\n",
      "0.0 0.8 0.6\n",
      "0.0 0.8 0.8\n",
      "0.0 0.8 1.0\n",
      "0.0 1.0 0.0\n",
      "0.0 1.0 0.2\n",
      "0.0 1.0 0.4\n",
      "0.0 1.0 0.6\n",
      "0.0 1.0 0.8\n",
      "0.0 1.0 1.0\n",
      "0.2 0.0 0.0\n",
      "0.2 0.0 0.2\n",
      "0.2 0.0 0.4\n",
      "0.2 0.0 0.6\n",
      "0.2 0.0 0.8\n",
      "0.2 0.0 1.0\n",
      "0.2 0.2 0.0\n",
      "0.2 0.2 0.2\n",
      "0.2 0.2 0.4\n",
      "0.2 0.2 0.6\n",
      "0.2 0.2 0.8\n",
      "0.2 0.2 1.0\n",
      "0.2 0.4 0.0\n",
      "0.2 0.4 0.2\n",
      "0.2 0.4 0.4\n",
      "0.2 0.4 0.6\n",
      "0.2 0.4 0.8\n",
      "0.2 0.4 1.0\n",
      "0.2 0.6 0.0\n",
      "0.2 0.6 0.2\n",
      "0.2 0.6 0.4\n",
      "0.2 0.6 0.6\n",
      "0.2 0.6 0.8\n",
      "0.2 0.6 1.0\n",
      "0.2 0.8 0.0\n",
      "0.2 0.8 0.2\n",
      "0.2 0.8 0.4\n",
      "0.2 0.8 0.6\n",
      "0.2 0.8 0.8\n",
      "0.2 0.8 1.0\n",
      "0.2 1.0 0.0\n",
      "0.2 1.0 0.2\n",
      "0.2 1.0 0.4\n",
      "0.2 1.0 0.6\n",
      "0.2 1.0 0.8\n",
      "0.2 1.0 1.0\n",
      "0.4 0.0 0.0\n",
      "0.4 0.0 0.2\n",
      "0.4 0.0 0.4\n",
      "0.4 0.0 0.6\n",
      "0.4 0.0 0.8\n",
      "0.4 0.0 1.0\n",
      "0.4 0.2 0.0\n",
      "0.4 0.2 0.2\n",
      "0.4 0.2 0.4\n",
      "0.4 0.2 0.6\n",
      "0.4 0.2 0.8\n",
      "0.4 0.2 1.0\n",
      "0.4 0.4 0.0\n",
      "0.4 0.4 0.2\n",
      "0.4 0.4 0.4\n",
      "0.4 0.4 0.6\n",
      "0.4 0.4 0.8\n",
      "0.4 0.4 1.0\n",
      "0.4 0.6 0.0\n",
      "0.4 0.6 0.2\n",
      "0.4 0.6 0.4\n",
      "0.4 0.6 0.6\n",
      "0.4 0.6 0.8\n",
      "0.4 0.6 1.0\n",
      "0.4 0.8 0.0\n",
      "0.4 0.8 0.2\n",
      "0.4 0.8 0.4\n",
      "0.4 0.8 0.6\n",
      "0.4 0.8 0.8\n",
      "0.4 0.8 1.0\n",
      "0.4 1.0 0.0\n",
      "0.4 1.0 0.2\n",
      "0.4 1.0 0.4\n",
      "0.4 1.0 0.6\n",
      "0.4 1.0 0.8\n",
      "0.4 1.0 1.0\n",
      "0.6 0.0 0.0\n",
      "0.6 0.0 0.2\n",
      "0.6 0.0 0.4\n",
      "0.6 0.0 0.6\n",
      "0.6 0.0 0.8\n",
      "0.6 0.0 1.0\n",
      "0.6 0.2 0.0\n",
      "0.6 0.2 0.2\n",
      "0.6 0.2 0.4\n",
      "0.6 0.2 0.6\n",
      "0.6 0.2 0.8\n",
      "0.6 0.2 1.0\n",
      "0.6 0.4 0.0\n",
      "0.6 0.4 0.2\n",
      "0.6 0.4 0.4\n",
      "0.6 0.4 0.6\n",
      "0.6 0.4 0.8\n",
      "0.6 0.4 1.0\n",
      "0.6 0.6 0.0\n",
      "0.6 0.6 0.2\n",
      "0.6 0.6 0.4\n",
      "0.6 0.6 0.6\n",
      "0.6 0.6 0.8\n",
      "0.6 0.6 1.0\n",
      "0.6 0.8 0.0\n",
      "0.6 0.8 0.2\n",
      "0.6 0.8 0.4\n",
      "0.6 0.8 0.6\n",
      "0.6 0.8 0.8\n",
      "0.6 0.8 1.0\n",
      "0.6 1.0 0.0\n",
      "0.6 1.0 0.2\n",
      "0.6 1.0 0.4\n",
      "0.6 1.0 0.6\n",
      "0.6 1.0 0.8\n",
      "0.6 1.0 1.0\n",
      "0.8 0.0 0.0\n",
      "0.8 0.0 0.2\n",
      "0.8 0.0 0.4\n",
      "0.8 0.0 0.6\n",
      "0.8 0.0 0.8\n",
      "0.8 0.0 1.0\n",
      "0.8 0.2 0.0\n",
      "0.8 0.2 0.2\n",
      "0.8 0.2 0.4\n",
      "0.8 0.2 0.6\n",
      "0.8 0.2 0.8\n",
      "0.8 0.2 1.0\n",
      "0.8 0.4 0.0\n",
      "0.8 0.4 0.2\n",
      "0.8 0.4 0.4\n",
      "0.8 0.4 0.6\n",
      "0.8 0.4 0.8\n",
      "0.8 0.4 1.0\n",
      "0.8 0.6 0.0\n",
      "0.8 0.6 0.2\n",
      "0.8 0.6 0.4\n",
      "0.8 0.6 0.6\n",
      "0.8 0.6 0.8\n",
      "0.8 0.6 1.0\n",
      "0.8 0.8 0.0\n",
      "0.8 0.8 0.2\n",
      "0.8 0.8 0.4\n",
      "0.8 0.8 0.6\n",
      "0.8 0.8 0.8\n",
      "0.8 0.8 1.0\n",
      "0.8 1.0 0.0\n",
      "0.8 1.0 0.2\n",
      "0.8 1.0 0.4\n",
      "0.8 1.0 0.6\n",
      "0.8 1.0 0.8\n",
      "0.8 1.0 1.0\n",
      "1.0 0.0 0.0\n",
      "1.0 0.0 0.2\n",
      "1.0 0.0 0.4\n",
      "1.0 0.0 0.6\n",
      "1.0 0.0 0.8\n",
      "1.0 0.0 1.0\n",
      "1.0 0.2 0.0\n",
      "1.0 0.2 0.2\n",
      "1.0 0.2 0.4\n",
      "1.0 0.2 0.6\n",
      "1.0 0.2 0.8\n",
      "1.0 0.2 1.0\n",
      "1.0 0.4 0.0\n",
      "1.0 0.4 0.2\n",
      "1.0 0.4 0.4\n",
      "1.0 0.4 0.6\n",
      "1.0 0.4 0.8\n",
      "1.0 0.4 1.0\n",
      "1.0 0.6 0.0\n",
      "1.0 0.6 0.2\n",
      "1.0 0.6 0.4\n",
      "1.0 0.6 0.6\n",
      "1.0 0.6 0.8\n",
      "1.0 0.6 1.0\n",
      "1.0 0.8 0.0\n",
      "1.0 0.8 0.2\n",
      "1.0 0.8 0.4\n",
      "1.0 0.8 0.6\n",
      "1.0 0.8 0.8\n",
      "1.0 0.8 1.0\n",
      "1.0 1.0 0.0\n",
      "1.0 1.0 0.2\n",
      "1.0 1.0 0.4\n",
      "1.0 1.0 0.6\n",
      "1.0 1.0 0.8\n",
      "1.0 1.0 1.0\n"
     ]
    }
   ],
   "source": [
    "Alpha=np.round(np.arange(0,1.1,.2),2)\n",
    "Beeta=np.round(np.arange(0,1.1,.2),2)\n",
    "Gamma=np.round(np.arange(0,1.1,.2),2)\n",
    "\n",
    "alphaList=[]\n",
    "betaList=[]\n",
    "gammaList=[]\n",
    "mapeList=[]\n",
    "\n",
    "for alpha in Alpha:\n",
    "    for beta in Beeta:\n",
    "        for gamma in Gamma:\n",
    "            \n",
    "            print(alpha,beta,gamma)\n",
    "            \n",
    "            TES=ExponentialSmoothing(train,seasonal_periods=12,seasonal='add',\n",
    "                                    trend='add').fit(smoothing_level=alpha,\n",
    "                                                    smoothing_trend=beta,\n",
    "                                                    smoothing_seasonal=gamma)\n",
    "            \n",
    "            Forecast=TES.forecast(12).rename('Forecast')\n",
    "            Actual_Forecast_Df=pd.concat([test,Forecast],axis=1)\n",
    "            Validation_Df=Actual_Forecast_Df[-12:].copy()\n",
    "            tempMAPE=np.mean(abs(Validation_Df['Sales']-Validation_Df['Forecast'])/Validation_Df['Sales'])*100\n",
    "            \n",
    "            alphaList.append(alpha)\n",
    "            betaList.append(beta)\n",
    "            gammaList.append(gamma)\n",
    "            mapeList.append(tempMAPE)\n",
    "            \n",
    "            model_selection_Df=pd.DataFrame({\"alpha\":alphaList,\n",
    "                         \"beta\":betaList,\n",
    "                         \"gamma\":gammaList,\n",
    "                         \"MAPE\":mapeList})\n",
    "    "
   ]
  },
  {
   "cell_type": "code",
   "execution_count": 61,
   "metadata": {},
   "outputs": [
    {
     "data": {
      "text/html": [
       "<div>\n",
       "<style scoped>\n",
       "    .dataframe tbody tr th:only-of-type {\n",
       "        vertical-align: middle;\n",
       "    }\n",
       "\n",
       "    .dataframe tbody tr th {\n",
       "        vertical-align: top;\n",
       "    }\n",
       "\n",
       "    .dataframe thead th {\n",
       "        text-align: right;\n",
       "    }\n",
       "</style>\n",
       "<table border=\"1\" class=\"dataframe\">\n",
       "  <thead>\n",
       "    <tr style=\"text-align: right;\">\n",
       "      <th></th>\n",
       "      <th>alpha</th>\n",
       "      <th>beta</th>\n",
       "      <th>gamma</th>\n",
       "      <th>MAPE</th>\n",
       "    </tr>\n",
       "  </thead>\n",
       "  <tbody>\n",
       "    <tr>\n",
       "      <th>0</th>\n",
       "      <td>0.0</td>\n",
       "      <td>0.0</td>\n",
       "      <td>0.0</td>\n",
       "      <td>26.344771</td>\n",
       "    </tr>\n",
       "    <tr>\n",
       "      <th>1</th>\n",
       "      <td>0.0</td>\n",
       "      <td>0.0</td>\n",
       "      <td>0.2</td>\n",
       "      <td>26.029403</td>\n",
       "    </tr>\n",
       "    <tr>\n",
       "      <th>2</th>\n",
       "      <td>0.0</td>\n",
       "      <td>0.0</td>\n",
       "      <td>0.4</td>\n",
       "      <td>25.011125</td>\n",
       "    </tr>\n",
       "    <tr>\n",
       "      <th>3</th>\n",
       "      <td>0.0</td>\n",
       "      <td>0.0</td>\n",
       "      <td>0.6</td>\n",
       "      <td>23.644696</td>\n",
       "    </tr>\n",
       "    <tr>\n",
       "      <th>4</th>\n",
       "      <td>0.0</td>\n",
       "      <td>0.0</td>\n",
       "      <td>0.8</td>\n",
       "      <td>21.861595</td>\n",
       "    </tr>\n",
       "    <tr>\n",
       "      <th>...</th>\n",
       "      <td>...</td>\n",
       "      <td>...</td>\n",
       "      <td>...</td>\n",
       "      <td>...</td>\n",
       "    </tr>\n",
       "    <tr>\n",
       "      <th>211</th>\n",
       "      <td>1.0</td>\n",
       "      <td>1.0</td>\n",
       "      <td>0.2</td>\n",
       "      <td>176.472142</td>\n",
       "    </tr>\n",
       "    <tr>\n",
       "      <th>212</th>\n",
       "      <td>1.0</td>\n",
       "      <td>1.0</td>\n",
       "      <td>0.4</td>\n",
       "      <td>421.890068</td>\n",
       "    </tr>\n",
       "    <tr>\n",
       "      <th>213</th>\n",
       "      <td>1.0</td>\n",
       "      <td>1.0</td>\n",
       "      <td>0.6</td>\n",
       "      <td>355.897138</td>\n",
       "    </tr>\n",
       "    <tr>\n",
       "      <th>214</th>\n",
       "      <td>1.0</td>\n",
       "      <td>1.0</td>\n",
       "      <td>0.8</td>\n",
       "      <td>265.204883</td>\n",
       "    </tr>\n",
       "    <tr>\n",
       "      <th>215</th>\n",
       "      <td>1.0</td>\n",
       "      <td>1.0</td>\n",
       "      <td>1.0</td>\n",
       "      <td>211.774038</td>\n",
       "    </tr>\n",
       "  </tbody>\n",
       "</table>\n",
       "<p>216 rows × 4 columns</p>\n",
       "</div>"
      ],
      "text/plain": [
       "     alpha  beta  gamma        MAPE\n",
       "0      0.0   0.0    0.0   26.344771\n",
       "1      0.0   0.0    0.2   26.029403\n",
       "2      0.0   0.0    0.4   25.011125\n",
       "3      0.0   0.0    0.6   23.644696\n",
       "4      0.0   0.0    0.8   21.861595\n",
       "..     ...   ...    ...         ...\n",
       "211    1.0   1.0    0.2  176.472142\n",
       "212    1.0   1.0    0.4  421.890068\n",
       "213    1.0   1.0    0.6  355.897138\n",
       "214    1.0   1.0    0.8  265.204883\n",
       "215    1.0   1.0    1.0  211.774038\n",
       "\n",
       "[216 rows x 4 columns]"
      ]
     },
     "execution_count": 61,
     "metadata": {},
     "output_type": "execute_result"
    }
   ],
   "source": [
    "model_selection_Df"
   ]
  },
  {
   "cell_type": "code",
   "execution_count": 62,
   "metadata": {},
   "outputs": [
    {
     "data": {
      "text/plain": [
       "20.551518791417507"
      ]
     },
     "execution_count": 62,
     "metadata": {},
     "output_type": "execute_result"
    }
   ],
   "source": [
    "model_selection_Df.MAPE.min()"
   ]
  },
  {
   "cell_type": "code",
   "execution_count": 63,
   "metadata": {},
   "outputs": [
    {
     "data": {
      "text/html": [
       "<div>\n",
       "<style scoped>\n",
       "    .dataframe tbody tr th:only-of-type {\n",
       "        vertical-align: middle;\n",
       "    }\n",
       "\n",
       "    .dataframe tbody tr th {\n",
       "        vertical-align: top;\n",
       "    }\n",
       "\n",
       "    .dataframe thead th {\n",
       "        text-align: right;\n",
       "    }\n",
       "</style>\n",
       "<table border=\"1\" class=\"dataframe\">\n",
       "  <thead>\n",
       "    <tr style=\"text-align: right;\">\n",
       "      <th></th>\n",
       "      <th>alpha</th>\n",
       "      <th>beta</th>\n",
       "      <th>gamma</th>\n",
       "      <th>MAPE</th>\n",
       "    </tr>\n",
       "  </thead>\n",
       "  <tbody>\n",
       "    <tr>\n",
       "      <th>11</th>\n",
       "      <td>0.0</td>\n",
       "      <td>0.2</td>\n",
       "      <td>1.0</td>\n",
       "      <td>20.551519</td>\n",
       "    </tr>\n",
       "  </tbody>\n",
       "</table>\n",
       "</div>"
      ],
      "text/plain": [
       "    alpha  beta  gamma       MAPE\n",
       "11    0.0   0.2    1.0  20.551519"
      ]
     },
     "execution_count": 63,
     "metadata": {},
     "output_type": "execute_result"
    }
   ],
   "source": [
    "model_selection_Df.loc[model_selection_Df['MAPE']==20.551518791417507]"
   ]
  },
  {
   "cell_type": "code",
   "execution_count": 64,
   "metadata": {},
   "outputs": [],
   "source": [
    "Final_TES=ExponentialSmoothing(train,seasonal_periods=12,seasonal='add',trend='add').fit(smoothing_level=0.0,smoothing_trend=0.2,smoothing_seasonal=1.0)\n",
    "\n",
    "\n",
    "Final_Forecast=Final_TES.forecast(12)\n",
    "\n",
    "furniture['Final_Forecast']=Final_Forecast"
   ]
  },
  {
   "cell_type": "code",
   "execution_count": 65,
   "metadata": {},
   "outputs": [
    {
     "data": {
      "text/plain": [
       "Index(['Sales', 'Forecast', 'Error', 'Forecast_Dbl_Es', 'dbl_Es_Error',\n",
       "       'Forecast_Tpl_Es', 'Tpl_Es_Error', 'Final_Forecast'],\n",
       "      dtype='object')"
      ]
     },
     "execution_count": 65,
     "metadata": {},
     "output_type": "execute_result"
    }
   ],
   "source": [
    "furniture.columns"
   ]
  },
  {
   "cell_type": "code",
   "execution_count": 66,
   "metadata": {},
   "outputs": [
    {
     "data": {
      "text/html": [
       "<div>\n",
       "<style scoped>\n",
       "    .dataframe tbody tr th:only-of-type {\n",
       "        vertical-align: middle;\n",
       "    }\n",
       "\n",
       "    .dataframe tbody tr th {\n",
       "        vertical-align: top;\n",
       "    }\n",
       "\n",
       "    .dataframe thead th {\n",
       "        text-align: right;\n",
       "    }\n",
       "</style>\n",
       "<table border=\"1\" class=\"dataframe\">\n",
       "  <thead>\n",
       "    <tr style=\"text-align: right;\">\n",
       "      <th></th>\n",
       "      <th>Sales</th>\n",
       "      <th>Forecast</th>\n",
       "      <th>Error</th>\n",
       "      <th>Forecast_Dbl_Es</th>\n",
       "      <th>dbl_Es_Error</th>\n",
       "      <th>Forecast_Tpl_Es</th>\n",
       "      <th>Tpl_Es_Error</th>\n",
       "      <th>Final_Forecast</th>\n",
       "    </tr>\n",
       "    <tr>\n",
       "      <th>Order Date</th>\n",
       "      <th></th>\n",
       "      <th></th>\n",
       "      <th></th>\n",
       "      <th></th>\n",
       "      <th></th>\n",
       "      <th></th>\n",
       "      <th></th>\n",
       "      <th></th>\n",
       "    </tr>\n",
       "  </thead>\n",
       "  <tbody>\n",
       "    <tr>\n",
       "      <th>2017-01-01</th>\n",
       "      <td>397.602133</td>\n",
       "      <td>784.197375</td>\n",
       "      <td>97.231682</td>\n",
       "      <td>913.154715</td>\n",
       "      <td>129.665447</td>\n",
       "      <td>718.994593</td>\n",
       "      <td>80.832680</td>\n",
       "      <td>545.162671</td>\n",
       "    </tr>\n",
       "    <tr>\n",
       "      <th>2017-02-01</th>\n",
       "      <td>528.179800</td>\n",
       "      <td>784.197375</td>\n",
       "      <td>48.471671</td>\n",
       "      <td>920.728337</td>\n",
       "      <td>74.321005</td>\n",
       "      <td>481.592831</td>\n",
       "      <td>8.820286</td>\n",
       "      <td>393.848077</td>\n",
       "    </tr>\n",
       "    <tr>\n",
       "      <th>2017-03-01</th>\n",
       "      <td>544.672240</td>\n",
       "      <td>784.197375</td>\n",
       "      <td>43.976013</td>\n",
       "      <td>928.301959</td>\n",
       "      <td>70.433132</td>\n",
       "      <td>803.678694</td>\n",
       "      <td>47.552718</td>\n",
       "      <td>646.555614</td>\n",
       "    </tr>\n",
       "    <tr>\n",
       "      <th>2017-04-01</th>\n",
       "      <td>453.297905</td>\n",
       "      <td>784.197375</td>\n",
       "      <td>72.998235</td>\n",
       "      <td>935.875581</td>\n",
       "      <td>106.459278</td>\n",
       "      <td>764.130189</td>\n",
       "      <td>68.571304</td>\n",
       "      <td>732.352962</td>\n",
       "    </tr>\n",
       "    <tr>\n",
       "      <th>2017-05-01</th>\n",
       "      <td>678.302328</td>\n",
       "      <td>784.197375</td>\n",
       "      <td>15.611777</td>\n",
       "      <td>943.449203</td>\n",
       "      <td>39.089778</td>\n",
       "      <td>664.597367</td>\n",
       "      <td>2.020480</td>\n",
       "      <td>724.245032</td>\n",
       "    </tr>\n",
       "    <tr>\n",
       "      <th>2017-06-01</th>\n",
       "      <td>826.460291</td>\n",
       "      <td>784.197375</td>\n",
       "      <td>5.113726</td>\n",
       "      <td>951.022825</td>\n",
       "      <td>15.071811</td>\n",
       "      <td>727.465166</td>\n",
       "      <td>11.978207</td>\n",
       "      <td>853.890554</td>\n",
       "    </tr>\n",
       "    <tr>\n",
       "      <th>2017-07-01</th>\n",
       "      <td>562.524857</td>\n",
       "      <td>784.197375</td>\n",
       "      <td>39.406706</td>\n",
       "      <td>958.596447</td>\n",
       "      <td>70.409616</td>\n",
       "      <td>774.561801</td>\n",
       "      <td>37.693791</td>\n",
       "      <td>805.716216</td>\n",
       "    </tr>\n",
       "    <tr>\n",
       "      <th>2017-08-01</th>\n",
       "      <td>857.881889</td>\n",
       "      <td>784.197375</td>\n",
       "      <td>8.589121</td>\n",
       "      <td>966.170068</td>\n",
       "      <td>12.622738</td>\n",
       "      <td>682.398415</td>\n",
       "      <td>20.455435</td>\n",
       "      <td>771.287587</td>\n",
       "    </tr>\n",
       "    <tr>\n",
       "      <th>2017-09-01</th>\n",
       "      <td>1209.508583</td>\n",
       "      <td>784.197375</td>\n",
       "      <td>35.163968</td>\n",
       "      <td>973.743690</td>\n",
       "      <td>19.492618</td>\n",
       "      <td>1242.331963</td>\n",
       "      <td>2.713778</td>\n",
       "      <td>1172.933175</td>\n",
       "    </tr>\n",
       "    <tr>\n",
       "      <th>2017-10-01</th>\n",
       "      <td>875.362728</td>\n",
       "      <td>784.197375</td>\n",
       "      <td>10.414580</td>\n",
       "      <td>981.317312</td>\n",
       "      <td>12.104078</td>\n",
       "      <td>736.496091</td>\n",
       "      <td>15.863897</td>\n",
       "      <td>661.852278</td>\n",
       "    </tr>\n",
       "    <tr>\n",
       "      <th>2017-11-01</th>\n",
       "      <td>1277.817759</td>\n",
       "      <td>784.197375</td>\n",
       "      <td>38.629952</td>\n",
       "      <td>988.890934</td>\n",
       "      <td>22.610957</td>\n",
       "      <td>1262.242283</td>\n",
       "      <td>1.218912</td>\n",
       "      <td>1308.324956</td>\n",
       "    </tr>\n",
       "    <tr>\n",
       "      <th>2017-12-01</th>\n",
       "      <td>1256.298672</td>\n",
       "      <td>784.197375</td>\n",
       "      <td>37.578747</td>\n",
       "      <td>996.464556</td>\n",
       "      <td>20.682511</td>\n",
       "      <td>1376.580034</td>\n",
       "      <td>9.574265</td>\n",
       "      <td>1123.315027</td>\n",
       "    </tr>\n",
       "  </tbody>\n",
       "</table>\n",
       "</div>"
      ],
      "text/plain": [
       "                  Sales    Forecast      Error  Forecast_Dbl_Es  dbl_Es_Error  \\\n",
       "Order Date                                                                      \n",
       "2017-01-01   397.602133  784.197375  97.231682       913.154715    129.665447   \n",
       "2017-02-01   528.179800  784.197375  48.471671       920.728337     74.321005   \n",
       "2017-03-01   544.672240  784.197375  43.976013       928.301959     70.433132   \n",
       "2017-04-01   453.297905  784.197375  72.998235       935.875581    106.459278   \n",
       "2017-05-01   678.302328  784.197375  15.611777       943.449203     39.089778   \n",
       "2017-06-01   826.460291  784.197375   5.113726       951.022825     15.071811   \n",
       "2017-07-01   562.524857  784.197375  39.406706       958.596447     70.409616   \n",
       "2017-08-01   857.881889  784.197375   8.589121       966.170068     12.622738   \n",
       "2017-09-01  1209.508583  784.197375  35.163968       973.743690     19.492618   \n",
       "2017-10-01   875.362728  784.197375  10.414580       981.317312     12.104078   \n",
       "2017-11-01  1277.817759  784.197375  38.629952       988.890934     22.610957   \n",
       "2017-12-01  1256.298672  784.197375  37.578747       996.464556     20.682511   \n",
       "\n",
       "            Forecast_Tpl_Es  Tpl_Es_Error  Final_Forecast  \n",
       "Order Date                                                 \n",
       "2017-01-01       718.994593     80.832680      545.162671  \n",
       "2017-02-01       481.592831      8.820286      393.848077  \n",
       "2017-03-01       803.678694     47.552718      646.555614  \n",
       "2017-04-01       764.130189     68.571304      732.352962  \n",
       "2017-05-01       664.597367      2.020480      724.245032  \n",
       "2017-06-01       727.465166     11.978207      853.890554  \n",
       "2017-07-01       774.561801     37.693791      805.716216  \n",
       "2017-08-01       682.398415     20.455435      771.287587  \n",
       "2017-09-01      1242.331963      2.713778     1172.933175  \n",
       "2017-10-01       736.496091     15.863897      661.852278  \n",
       "2017-11-01      1262.242283      1.218912     1308.324956  \n",
       "2017-12-01      1376.580034      9.574265     1123.315027  "
      ]
     },
     "execution_count": 66,
     "metadata": {},
     "output_type": "execute_result"
    }
   ],
   "source": [
    "#furniture.drop(['Forecast', 'Error', 'Forecast_Dbl_Es', 'dbl_Es_Error','Forecast_Tpl_Es','Tpl_Es_Error'],axis=1,inplace=True)\n",
    "\n",
    "furniture.iloc[-12:,]"
   ]
  },
  {
   "cell_type": "code",
   "execution_count": 67,
   "metadata": {},
   "outputs": [
    {
     "data": {
      "image/png": "[encoded data removed]",
      "text/plain": [
       "<Figure size 1080x432 with 1 Axes>"
      ]
     },
     "metadata": {},
     "output_type": "display_data"
    }
   ],
   "source": [
    "furniture.plot(figsize=(15, 6))\n",
    "plt.show()"
   ]
  },
  {
   "cell_type": "raw",
   "metadata": {},
   "source": [
    "Log-Likelihood\n",
    "The log-likelihood function identifies a distribution that fits best with the sampled data. While it’s useful, AIC and BIC punish the model for complexity, which helps make our ARIMA model parsimonious."
   ]
  },
  {
   "cell_type": "raw",
   "metadata": {},
   "source": [
    "Akaike’s Information Criterion\n",
    "Akaike’s Information Criterion (AIC) helps determine the strength of the linear regression model. The AIC penalizes a model for adding parameters since adding more parameters will always increase the maximum likelihood value."
   ]
  },
  {
   "cell_type": "raw",
   "metadata": {},
   "source": [
    "Bayesian Information Criterion\n",
    "Bayesian Information Criterion (BIC), like the AIC, also punishes a model for complexity, but it also incorporates the number of rows in the data."
   ]
  },
  {
   "cell_type": "raw",
   "metadata": {},
   "source": [
    "Jarque-Bera\n",
    "Jarque-Bera tests for the normality of errors. It tests the null that the data is normally distributed against an alternative of another distribution. We see a test statistic of 4535.14 with a probability of 0, which means we reject the null hypothesis, and the data is not normally distributed. Also, as part of the Jarque-Bera test, we see the distribution has a slight negative skew and a large kurtosis."
   ]
  },
  {
   "cell_type": "raw",
   "metadata": {},
   "source": [
    "Hannan-Quinn Information Criterion\n",
    "Hannan-Quinn Information Criterion (HQIC), like AIC and BIC, is another criterion for model selection; however, it’s not used as often in practice."
   ]
  },
  {
   "cell_type": "code",
   "execution_count": 68,
   "metadata": {},
   "outputs": [
    {
     "data": {
      "text/plain": [
       "[(0, 0, 0),\n",
       " (0, 0, 1),\n",
       " (0, 0, 2),\n",
       " (0, 0, 3),\n",
       " (0, 0, 4),\n",
       " (0, 0, 5),\n",
       " (0, 0, 6),\n",
       " (0, 1, 0),\n",
       " (0, 1, 1),\n",
       " (0, 1, 2),\n",
       " (0, 1, 3),\n",
       " (0, 1, 4),\n",
       " (0, 1, 5),\n",
       " (0, 1, 6),\n",
       " (0, 2, 0),\n",
       " (0, 2, 1),\n",
       " (0, 2, 2),\n",
       " (0, 2, 3),\n",
       " (0, 2, 4),\n",
       " (0, 2, 5),\n",
       " (0, 2, 6),\n",
       " (0, 3, 0),\n",
       " (0, 3, 1),\n",
       " (0, 3, 2),\n",
       " (0, 3, 3),\n",
       " (0, 3, 4),\n",
       " (0, 3, 5),\n",
       " (0, 3, 6),\n",
       " (0, 4, 0),\n",
       " (0, 4, 1),\n",
       " (0, 4, 2),\n",
       " (0, 4, 3),\n",
       " (0, 4, 4),\n",
       " (0, 4, 5),\n",
       " (0, 4, 6),\n",
       " (0, 5, 0),\n",
       " (0, 5, 1),\n",
       " (0, 5, 2),\n",
       " (0, 5, 3),\n",
       " (0, 5, 4),\n",
       " (0, 5, 5),\n",
       " (0, 5, 6),\n",
       " (0, 6, 0),\n",
       " (0, 6, 1),\n",
       " (0, 6, 2),\n",
       " (0, 6, 3),\n",
       " (0, 6, 4),\n",
       " (0, 6, 5),\n",
       " (0, 6, 6),\n",
       " (1, 0, 0),\n",
       " (1, 0, 1),\n",
       " (1, 0, 2),\n",
       " (1, 0, 3),\n",
       " (1, 0, 4),\n",
       " (1, 0, 5),\n",
       " (1, 0, 6),\n",
       " (1, 1, 0),\n",
       " (1, 1, 1),\n",
       " (1, 1, 2),\n",
       " (1, 1, 3),\n",
       " (1, 1, 4),\n",
       " (1, 1, 5),\n",
       " (1, 1, 6),\n",
       " (1, 2, 0),\n",
       " (1, 2, 1),\n",
       " (1, 2, 2),\n",
       " (1, 2, 3),\n",
       " (1, 2, 4),\n",
       " (1, 2, 5),\n",
       " (1, 2, 6),\n",
       " (1, 3, 0),\n",
       " (1, 3, 1),\n",
       " (1, 3, 2),\n",
       " (1, 3, 3),\n",
       " (1, 3, 4),\n",
       " (1, 3, 5),\n",
       " (1, 3, 6),\n",
       " (1, 4, 0),\n",
       " (1, 4, 1),\n",
       " (1, 4, 2),\n",
       " (1, 4, 3),\n",
       " (1, 4, 4),\n",
       " (1, 4, 5),\n",
       " (1, 4, 6),\n",
       " (1, 5, 0),\n",
       " (1, 5, 1),\n",
       " (1, 5, 2),\n",
       " (1, 5, 3),\n",
       " (1, 5, 4),\n",
       " (1, 5, 5),\n",
       " (1, 5, 6),\n",
       " (1, 6, 0),\n",
       " (1, 6, 1),\n",
       " (1, 6, 2),\n",
       " (1, 6, 3),\n",
       " (1, 6, 4),\n",
       " (1, 6, 5),\n",
       " (1, 6, 6),\n",
       " (2, 0, 0),\n",
       " (2, 0, 1),\n",
       " (2, 0, 2),\n",
       " (2, 0, 3),\n",
       " (2, 0, 4),\n",
       " (2, 0, 5),\n",
       " (2, 0, 6),\n",
       " (2, 1, 0),\n",
       " (2, 1, 1),\n",
       " (2, 1, 2),\n",
       " (2, 1, 3),\n",
       " (2, 1, 4),\n",
       " (2, 1, 5),\n",
       " (2, 1, 6),\n",
       " (2, 2, 0),\n",
       " (2, 2, 1),\n",
       " (2, 2, 2),\n",
       " (2, 2, 3),\n",
       " (2, 2, 4),\n",
       " (2, 2, 5),\n",
       " (2, 2, 6),\n",
       " (2, 3, 0),\n",
       " (2, 3, 1),\n",
       " (2, 3, 2),\n",
       " (2, 3, 3),\n",
       " (2, 3, 4),\n",
       " (2, 3, 5),\n",
       " (2, 3, 6),\n",
       " (2, 4, 0),\n",
       " (2, 4, 1),\n",
       " (2, 4, 2),\n",
       " (2, 4, 3),\n",
       " (2, 4, 4),\n",
       " (2, 4, 5),\n",
       " (2, 4, 6),\n",
       " (2, 5, 0),\n",
       " (2, 5, 1),\n",
       " (2, 5, 2),\n",
       " (2, 5, 3),\n",
       " (2, 5, 4),\n",
       " (2, 5, 5),\n",
       " (2, 5, 6),\n",
       " (2, 6, 0),\n",
       " (2, 6, 1),\n",
       " (2, 6, 2),\n",
       " (2, 6, 3),\n",
       " (2, 6, 4),\n",
       " (2, 6, 5),\n",
       " (2, 6, 6),\n",
       " (3, 0, 0),\n",
       " (3, 0, 1),\n",
       " (3, 0, 2),\n",
       " (3, 0, 3),\n",
       " (3, 0, 4),\n",
       " (3, 0, 5),\n",
       " (3, 0, 6),\n",
       " (3, 1, 0),\n",
       " (3, 1, 1),\n",
       " (3, 1, 2),\n",
       " (3, 1, 3),\n",
       " (3, 1, 4),\n",
       " (3, 1, 5),\n",
       " (3, 1, 6),\n",
       " (3, 2, 0),\n",
       " (3, 2, 1),\n",
       " (3, 2, 2),\n",
       " (3, 2, 3),\n",
       " (3, 2, 4),\n",
       " (3, 2, 5),\n",
       " (3, 2, 6),\n",
       " (3, 3, 0),\n",
       " (3, 3, 1),\n",
       " (3, 3, 2),\n",
       " (3, 3, 3),\n",
       " (3, 3, 4),\n",
       " (3, 3, 5),\n",
       " (3, 3, 6),\n",
       " (3, 4, 0),\n",
       " (3, 4, 1),\n",
       " (3, 4, 2),\n",
       " (3, 4, 3),\n",
       " (3, 4, 4),\n",
       " (3, 4, 5),\n",
       " (3, 4, 6),\n",
       " (3, 5, 0),\n",
       " (3, 5, 1),\n",
       " (3, 5, 2),\n",
       " (3, 5, 3),\n",
       " (3, 5, 4),\n",
       " (3, 5, 5),\n",
       " (3, 5, 6),\n",
       " (3, 6, 0),\n",
       " (3, 6, 1),\n",
       " (3, 6, 2),\n",
       " (3, 6, 3),\n",
       " (3, 6, 4),\n",
       " (3, 6, 5),\n",
       " (3, 6, 6),\n",
       " (4, 0, 0),\n",
       " (4, 0, 1),\n",
       " (4, 0, 2),\n",
       " (4, 0, 3),\n",
       " (4, 0, 4),\n",
       " (4, 0, 5),\n",
       " (4, 0, 6),\n",
       " (4, 1, 0),\n",
       " (4, 1, 1),\n",
       " (4, 1, 2),\n",
       " (4, 1, 3),\n",
       " (4, 1, 4),\n",
       " (4, 1, 5),\n",
       " (4, 1, 6),\n",
       " (4, 2, 0),\n",
       " (4, 2, 1),\n",
       " (4, 2, 2),\n",
       " (4, 2, 3),\n",
       " (4, 2, 4),\n",
       " (4, 2, 5),\n",
       " (4, 2, 6),\n",
       " (4, 3, 0),\n",
       " (4, 3, 1),\n",
       " (4, 3, 2),\n",
       " (4, 3, 3),\n",
       " (4, 3, 4),\n",
       " (4, 3, 5),\n",
       " (4, 3, 6),\n",
       " (4, 4, 0),\n",
       " (4, 4, 1),\n",
       " (4, 4, 2),\n",
       " (4, 4, 3),\n",
       " (4, 4, 4),\n",
       " (4, 4, 5),\n",
       " (4, 4, 6),\n",
       " (4, 5, 0),\n",
       " (4, 5, 1),\n",
       " (4, 5, 2),\n",
       " (4, 5, 3),\n",
       " (4, 5, 4),\n",
       " (4, 5, 5),\n",
       " (4, 5, 6),\n",
       " (4, 6, 0),\n",
       " (4, 6, 1),\n",
       " (4, 6, 2),\n",
       " (4, 6, 3),\n",
       " (4, 6, 4),\n",
       " (4, 6, 5),\n",
       " (4, 6, 6),\n",
       " (5, 0, 0),\n",
       " (5, 0, 1),\n",
       " (5, 0, 2),\n",
       " (5, 0, 3),\n",
       " (5, 0, 4),\n",
       " (5, 0, 5),\n",
       " (5, 0, 6),\n",
       " (5, 1, 0),\n",
       " (5, 1, 1),\n",
       " (5, 1, 2),\n",
       " (5, 1, 3),\n",
       " (5, 1, 4),\n",
       " (5, 1, 5),\n",
       " (5, 1, 6),\n",
       " (5, 2, 0),\n",
       " (5, 2, 1),\n",
       " (5, 2, 2),\n",
       " (5, 2, 3),\n",
       " (5, 2, 4),\n",
       " (5, 2, 5),\n",
       " (5, 2, 6),\n",
       " (5, 3, 0),\n",
       " (5, 3, 1),\n",
       " (5, 3, 2),\n",
       " (5, 3, 3),\n",
       " (5, 3, 4),\n",
       " (5, 3, 5),\n",
       " (5, 3, 6),\n",
       " (5, 4, 0),\n",
       " (5, 4, 1),\n",
       " (5, 4, 2),\n",
       " (5, 4, 3),\n",
       " (5, 4, 4),\n",
       " (5, 4, 5),\n",
       " (5, 4, 6),\n",
       " (5, 5, 0),\n",
       " (5, 5, 1),\n",
       " (5, 5, 2),\n",
       " (5, 5, 3),\n",
       " (5, 5, 4),\n",
       " (5, 5, 5),\n",
       " (5, 5, 6),\n",
       " (5, 6, 0),\n",
       " (5, 6, 1),\n",
       " (5, 6, 2),\n",
       " (5, 6, 3),\n",
       " (5, 6, 4),\n",
       " (5, 6, 5),\n",
       " (5, 6, 6),\n",
       " (6, 0, 0),\n",
       " (6, 0, 1),\n",
       " (6, 0, 2),\n",
       " (6, 0, 3),\n",
       " (6, 0, 4),\n",
       " (6, 0, 5),\n",
       " (6, 0, 6),\n",
       " (6, 1, 0),\n",
       " (6, 1, 1),\n",
       " (6, 1, 2),\n",
       " (6, 1, 3),\n",
       " (6, 1, 4),\n",
       " (6, 1, 5),\n",
       " (6, 1, 6),\n",
       " (6, 2, 0),\n",
       " (6, 2, 1),\n",
       " (6, 2, 2),\n",
       " (6, 2, 3),\n",
       " (6, 2, 4),\n",
       " (6, 2, 5),\n",
       " (6, 2, 6),\n",
       " (6, 3, 0),\n",
       " (6, 3, 1),\n",
       " (6, 3, 2),\n",
       " (6, 3, 3),\n",
       " (6, 3, 4),\n",
       " (6, 3, 5),\n",
       " (6, 3, 6),\n",
       " (6, 4, 0),\n",
       " (6, 4, 1),\n",
       " (6, 4, 2),\n",
       " (6, 4, 3),\n",
       " (6, 4, 4),\n",
       " (6, 4, 5),\n",
       " (6, 4, 6),\n",
       " (6, 5, 0),\n",
       " (6, 5, 1),\n",
       " (6, 5, 2),\n",
       " (6, 5, 3),\n",
       " (6, 5, 4),\n",
       " (6, 5, 5),\n",
       " (6, 5, 6),\n",
       " (6, 6, 0),\n",
       " (6, 6, 1),\n",
       " (6, 6, 2),\n",
       " (6, 6, 3),\n",
       " (6, 6, 4),\n",
       " (6, 6, 5),\n",
       " (6, 6, 6)]"
      ]
     },
     "execution_count": 68,
     "metadata": {},
     "output_type": "execute_result"
    }
   ],
   "source": [
    "#Explanation of itertools\n",
    "\n",
    "import itertools\n",
    "\n",
    "p=range(0,7)\n",
    "d=range(0,7)\n",
    "q=range(0,7)\n",
    "\n",
    "pdq_cominations=list(itertools.product(p,d,q))\n",
    "\n",
    "pdq_cominations\n",
    "\n",
    "#Similarly we will create seasonal pdq combinations and try hyperparameter tuning"
   ]
  }
 ],
 "metadata": {
  "kernelspec": {
   "display_name": "Python 3 (ipykernel)",
   "language": "python",
   "name": "python3"
  },
  "language_info": {
   "codemirror_mode": {
    "name": "ipython",
    "version": 3
   },
   "file_extension": ".py",
   "mimetype": "text/x-python",
   "name": "python",
   "nbconvert_exporter": "python",
   "pygments_lexer": "ipython3",
   "version": "3.9.12"
  }
 },
 "nbformat": 4,
 "nbformat_minor": 4
}
